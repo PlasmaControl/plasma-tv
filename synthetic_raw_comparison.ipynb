{
 "cells": [
  {
   "cell_type": "code",
   "execution_count": null,
   "metadata": {},
   "outputs": [],
   "source": [
    "import numpy as np\n",
    "import matplotlib.pyplot as plt\n",
    "import matplotlib.animation as animation\n",
    "from pathlib import Path\n",
    "import h5py\n",
    "import pickle\n",
    "from tqdm.notebook import tqdm\n",
    "import cv2\n",
    "# import diplib as dip"
   ]
  },
  {
   "cell_type": "code",
   "execution_count": null,
   "metadata": {},
   "outputs": [],
   "source": [
    "import torch\n",
    "import torch.nn as nn\n",
    "import torchvision.transforms as T\n",
    "from torch.utils.data import Dataset, DataLoader, random_split\n",
    "# from torchsummary import summary"
   ]
  },
  {
   "cell_type": "code",
   "execution_count": null,
   "metadata": {},
   "outputs": [],
   "source": [
    "def brightness_reconstruction(img): # doi: 10.1109/TPS.2018.2828863.\n",
    "    im_norm = img / 255\n",
    "    img = np.average(im_norm,axis=None)\n",
    "    img = np.log(im_norm + 1) * (im_norm - img)\n",
    "    img = img / np.max(img)\n",
    "    img = np.where(img < 0, 0, img)\n",
    "    return img * 255\n",
    "\n",
    "def process_image(img, kernel_size, sigma, threshold, erode_kernel):\n",
    "    img = cv2.GaussianBlur(img,(kernel_size, kernel_size),0)\n",
    "    # img = brightness_reconstruction(img)\n",
    "    # img = np.array(dip.MatchedFiltersLineDetector2D(img, sigma = sigma)) # 10.1109/42.34715\n",
    "    # img *= 255.0/img.max()\n",
    "    img = brightness_reconstruction(img)\n",
    "    # img = np.where(img < threshold, 0, 1).astype('uint8')\n",
    "    # img = cv2.erode(img, np.ones((erode_kernel,erode_kernel), np.uint8), iterations=1)\n",
    "    return img"
   ]
  },
  {
   "cell_type": "code",
   "execution_count": null,
   "metadata": {},
   "outputs": [],
   "source": [
    "file_name = 'cam_geo/s_outs_v3_limited.h5'\n",
    "with h5py.File(file_name, 'r') as f:\n",
    "    print(list(f.keys()))\n",
    "    synthetic_images = f['image'][:]\n",
    "    \n",
    "# file_name_2 = 'outputs/hdf5/x_outer_radiation.hdf5'\n",
    "file_name_2 = 'outputs/hdf5/x_outer_radiation.hdf5'\n",
    "with h5py.File(file_name_2, 'r') as f:\n",
    "    print(list(f.keys()))\n",
    "    points = f['points'][:]\n",
    "    tv_images = f['tv_images'][:]\n",
    "    \n",
    "tv_images = tv_images / 255\n",
    "for i in range(len(tv_images)):\n",
    "    tv_images[i] = cv2.flip(tv_images[i], 0)"
   ]
  },
  {
   "cell_type": "code",
   "execution_count": null,
   "metadata": {},
   "outputs": [],
   "source": [
    "idx = 1840\n",
    "# TV Images\n",
    "plt.subplot(2, 2, 1)\n",
    "plt.imshow(tv_images[idx], origin='lower')\n",
    "plt.colorbar(orientation='horizontal', ax=plt.gca())\n",
    "plt.title('Real Image')\n",
    "\n",
    "# Synthetic Images\n",
    "plt.subplot(2, 2, 2)\n",
    "plt.imshow(synthetic_images[idx], origin='lower')\n",
    "plt.colorbar(orientation='horizontal', ax=plt.gca())\n",
    "plt.title(f'Synthetic Images: idx = {idx}')\n",
    "\n",
    "plt.tight_layout()\n",
    "plt.show()"
   ]
  },
  {
   "cell_type": "code",
   "execution_count": null,
   "metadata": {},
   "outputs": [],
   "source": [
    "kernel_size = 5\n",
    "sigma = 0.1\n",
    "threshold = .1\n",
    "erode_kernel = 1\n",
    "\n",
    "process_tv_image =  process_image(tv_images[idx], kernel_size, sigma, threshold, erode_kernel)\n",
    "plt.imshow(process_tv_image, origin='lower')\n",
    "plt.show()"
   ]
  },
  {
   "cell_type": "code",
   "execution_count": null,
   "metadata": {},
   "outputs": [],
   "source": [
    "test = (tv_images - synthetic_images[idx]) * np.array(synthetic_images[idx])\n",
    "plt.imshow(test[idx], origin='lower')\n",
    "plt.title('Multiplication of Synthetic and Real Images for idx = {idx}')\n",
    "plt.show()"
   ]
  },
  {
   "cell_type": "code",
   "execution_count": null,
   "metadata": {},
   "outputs": [],
   "source": [
    "test_scalar = np.sqrt(np.sum(test**2, axis=(1,2)))"
   ]
  },
  {
   "cell_type": "code",
   "execution_count": null,
   "metadata": {},
   "outputs": [],
   "source": [
    "print(test_scalar)"
   ]
  },
  {
   "cell_type": "code",
   "execution_count": null,
   "metadata": {},
   "outputs": [],
   "source": [
    "plt.plot(test_scalar)\n",
    "plt.axvline(x=idx, color='red', linestyle='--')\n",
    "plt.title('Most likely indicies (by RMS)')\n",
    "print(np.argmax(test_scalar))\n",
    "print(test_scalar[idx])"
   ]
  }
 ],
 "metadata": {
  "kernelspec": {
   "display_name": "torch2env",
   "language": "python",
   "name": "python3"
  },
  "language_info": {
   "codemirror_mode": {
    "name": "ipython",
    "version": 3
   },
   "file_extension": ".py",
   "mimetype": "text/x-python",
   "name": "python",
   "nbconvert_exporter": "python",
   "pygments_lexer": "ipython3",
   "version": "3.11.5"
  }
 },
 "nbformat": 4,
 "nbformat_minor": 2
}
