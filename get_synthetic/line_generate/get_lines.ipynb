{
 "cells": [
  {
   "cell_type": "markdown",
   "id": "0",
   "metadata": {},
   "source": [
    "# Get Lines from TV Vid\n",
    "\n",
    "Since synthetic images of rings from different angles can be generated, and certain aspects of the tokamak exhibits ring-like behavior, an assumption can be made that there can be a direct mapping between a processed real image and a synthetic image via ring creation. Different methods are employed here in order to attempt an extraction of the ring-like structures from bright emission areas."
   ]
  },
  {
   "cell_type": "code",
   "execution_count": 23,
   "id": "1",
   "metadata": {},
   "outputs": [],
   "source": [
    "import numpy as np\n",
    "import matplotlib.pyplot as plt\n",
    "import matplotlib.animation as animation\n",
    "\n",
    "from skimage.transform import hough_ellipse\n",
    "from skimage.draw import ellipse_perimeter\n",
    "\n",
    "from pathlib import Path\n",
    "from tqdm.notebook import tqdm\n",
    "\n",
    "from utils.get_file import GetTV\n",
    "# from utils.processing import AdvancedProcessing, HomomorphicFilter\n",
    "import diplib as dip\n",
    "import cv2"
   ]
  },
  {
   "cell_type": "code",
   "execution_count": 24,
   "id": "2",
   "metadata": {},
   "outputs": [],
   "source": [
    "out_dir = '/cscratch/chenn/g_file'\n",
    "shots = [190109, 190110, 190113, 190114, 190115, 190116]\n",
    "times = np.arange(100, 5000, 100)\n"
   ]
  },
  {
   "cell_type": "code",
   "execution_count": 25,
   "id": "3",
   "metadata": {},
   "outputs": [],
   "source": [
    "tv = GetTV()\n",
    "files = tv.list_files()\n",
    "file = files[0]\n",
    "vid = tv.load(file, 'vid')"
   ]
  },
  {
   "cell_type": "code",
   "execution_count": 29,
   "id": "4",
   "metadata": {},
   "outputs": [],
   "source": [
    "kernel_size = 5\n",
    "sigma = 1\n",
    "threshold = 0.5\n",
    "erode_kernel = 3\n",
    "\n",
    "def brightness_reconstruction(img): # doi: 10.1109/TPS.2018.2828863.\n",
    "    im_norm = img / 255\n",
    "    img = np.average(im_norm,axis=None)\n",
    "    img = np.log(im_norm + 1) * (im_norm - img)\n",
    "    img = img / np.max(img)\n",
    "    img = np.where(img < 0, 0, img)\n",
    "    return img\n",
    "\n",
    "def process_image(img):\n",
    "    img = cv2.GaussianBlur(img,(kernel_size, kernel_size),0)\n",
    "    img = brightness_reconstruction(img)\n",
    "    img = dip.MatchedFiltersLineDetector2D(img, sigma = sigma)\n",
    "    img = np.array(img) # 10.1109/42.34715\n",
    "    img *= 255.0/img.max()\n",
    "    img = brightness_reconstruction(img)\n",
    "    img = np.where(img < threshold, 0, 1).astype('uint8')\n",
    "    img = cv2.erode(img, np.ones((erode_kernel,erode_kernel), np.uint8), iterations=1)\n",
    "    return img"
   ]
  },
  {
   "cell_type": "code",
   "execution_count": 30,
   "id": "5",
   "metadata": {},
   "outputs": [
    {
     "ename": "RuntimeError",
     "evalue": "The mask image selects no pixels\nin function: View (D:\\a\\diplib\\diplib\\src\\library\\image_views.cpp at line number 95)\nin function: At (D:\\a\\diplib\\diplib\\include\\diplib/library/image_views.h at line number 1365)",
     "output_type": "error",
     "traceback": [
      "\u001b[1;31m---------------------------------------------------------------------------\u001b[0m",
      "\u001b[1;31mRuntimeError\u001b[0m                              Traceback (most recent call last)",
      "Cell \u001b[1;32mIn[30], line 15\u001b[0m\n\u001b[0;32m     13\u001b[0m img8 \u001b[38;5;241m=\u001b[39m (img\u001b[38;5;241m/\u001b[39m\u001b[38;5;241m255\u001b[39m)\u001b[38;5;241m.\u001b[39mastype(\u001b[38;5;124m'\u001b[39m\u001b[38;5;124muint8\u001b[39m\u001b[38;5;124m'\u001b[39m)\n\u001b[0;32m     14\u001b[0m img8 \u001b[38;5;241m=\u001b[39m img8[\u001b[38;5;241m0\u001b[39m:\u001b[38;5;241m240\u001b[39m, \u001b[38;5;241m240\u001b[39m:\u001b[38;5;241m720\u001b[39m]\n\u001b[1;32m---> 15\u001b[0m probability \u001b[38;5;241m=\u001b[39m \u001b[43mprocess_image\u001b[49m\u001b[43m(\u001b[49m\u001b[43mimg\u001b[49m\u001b[43m)\u001b[49m\n\u001b[0;32m     16\u001b[0m \u001b[38;5;66;03m# probability = homofilt.filter(img, (.9,50))\u001b[39;00m\n\u001b[0;32m     18\u001b[0m fig, ax \u001b[38;5;241m=\u001b[39m plt\u001b[38;5;241m.\u001b[39msubplots(\u001b[38;5;241m2\u001b[39m)\n",
      "Cell \u001b[1;32mIn[29], line 17\u001b[0m, in \u001b[0;36mprocess_image\u001b[1;34m(img)\u001b[0m\n\u001b[0;32m     15\u001b[0m img \u001b[38;5;241m=\u001b[39m cv2\u001b[38;5;241m.\u001b[39mGaussianBlur(img,(kernel_size, kernel_size),\u001b[38;5;241m0\u001b[39m)\n\u001b[0;32m     16\u001b[0m img \u001b[38;5;241m=\u001b[39m brightness_reconstruction(img)\n\u001b[1;32m---> 17\u001b[0m img \u001b[38;5;241m=\u001b[39m \u001b[43mdip\u001b[49m\u001b[38;5;241;43m.\u001b[39;49m\u001b[43mMatchedFiltersLineDetector2D\u001b[49m\u001b[43m(\u001b[49m\u001b[43mimg\u001b[49m\u001b[43m,\u001b[49m\u001b[43m \u001b[49m\u001b[43msigma\u001b[49m\u001b[43m \u001b[49m\u001b[38;5;241;43m=\u001b[39;49m\u001b[43m \u001b[49m\u001b[43msigma\u001b[49m\u001b[43m)\u001b[49m\n\u001b[0;32m     18\u001b[0m img \u001b[38;5;241m=\u001b[39m np\u001b[38;5;241m.\u001b[39marray(img) \u001b[38;5;66;03m# 10.1109/42.34715\u001b[39;00m\n\u001b[0;32m     19\u001b[0m img \u001b[38;5;241m*\u001b[39m\u001b[38;5;241m=\u001b[39m \u001b[38;5;241m255.0\u001b[39m\u001b[38;5;241m/\u001b[39mimg\u001b[38;5;241m.\u001b[39mmax()\n",
      "\u001b[1;31mRuntimeError\u001b[0m: The mask image selects no pixels\nin function: View (D:\\a\\diplib\\diplib\\src\\library\\image_views.cpp at line number 95)\nin function: At (D:\\a\\diplib\\diplib\\include\\diplib/library/image_views.h at line number 1365)"
     ]
    }
   ],
   "source": [
    "# single image plotting\n",
    "idx = 245\n",
    "kernel_size = 5\n",
    "sigma = 1\n",
    "threshold = 3\n",
    "erode_kernel = 5\n",
    "aspect_num = 1/2\n",
    "\n",
    "# process = AdvancedProcessing()\n",
    "# homofilt = HomomorphicFilter()\n",
    "\n",
    "img = vid[idx]\n",
    "img8 = (img/255).astype('uint8')\n",
    "img8 = img8[0:240, 240:720]\n",
    "probability = process_image(img)\n",
    "# probability = homofilt.filter(img, (.9,50))\n",
    "\n",
    "fig, ax = plt.subplots(2)\n",
    "ax[0].imshow(probability, cmap='gray')\n",
    "ax[1].imshow(img, cmap='gray')\n",
    "x_left, x_right = ax[0].get_xlim()\n",
    "y_low, y_high = ax[0].get_ylim()\n",
    "ax[0].set_aspect(abs((x_right-x_left)/(y_low-y_high))*aspect_num)\n",
    "ax[1].set_aspect(abs((x_right-x_left)/(y_low-y_high))*aspect_num)\n",
    "ax[0].set_title(f'2X BR + 2DMFLD, Frame {idx}')\n",
    "ax[1].set_title(f'Original, Frame {idx}')\n",
    "plt.tight_layout()\n",
    "plt.show()"
   ]
  },
  {
   "cell_type": "code",
   "execution_count": 28,
   "id": "6",
   "metadata": {},
   "outputs": [
    {
     "ename": "NameError",
     "evalue": "name 'edges' is not defined",
     "output_type": "error",
     "traceback": [
      "\u001b[1;31m---------------------------------------------------------------------------\u001b[0m",
      "\u001b[1;31mNameError\u001b[0m                                 Traceback (most recent call last)",
      "Cell \u001b[1;32mIn[28], line 1\u001b[0m\n\u001b[1;32m----> 1\u001b[0m result \u001b[38;5;241m=\u001b[39m hough_ellipse(\u001b[43medges\u001b[49m, accuracy\u001b[38;5;241m=\u001b[39m\u001b[38;5;241m20\u001b[39m, threshold\u001b[38;5;241m=\u001b[39m\u001b[38;5;241m250\u001b[39m,\n\u001b[0;32m      2\u001b[0m                        min_size\u001b[38;5;241m=\u001b[39m\u001b[38;5;241m100\u001b[39m, max_size\u001b[38;5;241m=\u001b[39m\u001b[38;5;241m120\u001b[39m)\n\u001b[0;32m      3\u001b[0m result\u001b[38;5;241m.\u001b[39msort(order\u001b[38;5;241m=\u001b[39m\u001b[38;5;124m'\u001b[39m\u001b[38;5;124maccumulator\u001b[39m\u001b[38;5;124m'\u001b[39m)\n",
      "\u001b[1;31mNameError\u001b[0m: name 'edges' is not defined"
     ]
    }
   ],
   "source": [
    "result = hough_ellipse(edges, accuracy=20, threshold=250,\n",
    "                       min_size=100, max_size=120)\n",
    "result.sort(order='accumulator')"
   ]
  },
  {
   "cell_type": "code",
   "execution_count": null,
   "id": "7",
   "metadata": {},
   "outputs": [],
   "source": [
    "# animated plotting\n",
    "savepath = Path('process_videos') / f'{filename}_inversion.mp4'\n",
    "\n",
    "kernel_size = 5\n",
    "sigma = 1\n",
    "threshold = 4\n",
    "erode_kernel = 4\n",
    "aspect_num = 1/2\n",
    "\n",
    "fig, ax = plt.subplots(2)\n",
    "top = ax[0].imshow(probability, cmap='gray')\n",
    "bot = ax[1].imshow(img8, cmap='gray')\n",
    "title1 = ax[0].set_title(f'2X BR + 2DMFLD, Frame {0}')\n",
    "title2 = ax[1].set_title(f'Original, Frame {0}')\n",
    "\n",
    "x_left, x_right = ax[0].get_xlim()\n",
    "y_low, y_high = ax[0].get_ylim()\n",
    "ax[0].set_aspect(abs((x_right-x_left)/(y_low-y_high))*aspect_num)\n",
    "ax[1].set_aspect(abs((x_right-x_left)/(y_low-y_high))*aspect_num)\n",
    "\n",
    "plt.tight_layout()\n",
    "\n",
    "def animate(i):\n",
    "    img = np.sqrt(vid[i]).copy() # [25:250,250:700]\n",
    "    ratio = np.amax(img) / 255\n",
    "    img8 = (img/ratio).astype('uint8')\n",
    "    img8 = img8[0:240, 240:720]\n",
    "    probability = process_image(img8, kernel_size, sigma, threshold, erode_kernel)\n",
    "    top.set_array(probability)\n",
    "    bot.set_array(img8)\n",
    "    title1.set_text(f'2X BR + 2DMFLD, Frame {i}')\n",
    "    title2.set_text(f'Original, Frame {i}')\n",
    "    return top, bot, title1, title2\n",
    "    \n",
    "writervideo = animation.FFMpegWriter(fps=30) \n",
    "ani = animation.FuncAnimation(fig, animate, frames=tqdm(range(len(vid))), blit=True)\n",
    "ani.save(savepath, writer=writervideo)\n",
    "plt.close()"
   ]
  }
 ],
 "metadata": {
  "kernelspec": {
   "display_name": "Python 3",
   "language": "python",
   "name": "python3"
  },
  "language_info": {
   "codemirror_mode": {
    "name": "ipython",
    "version": 3
   },
   "file_extension": ".py",
   "mimetype": "text/x-python",
   "name": "python",
   "nbconvert_exporter": "python",
   "pygments_lexer": "ipython3",
   "version": "3.11.7"
  }
 },
 "nbformat": 4,
 "nbformat_minor": 5
}
