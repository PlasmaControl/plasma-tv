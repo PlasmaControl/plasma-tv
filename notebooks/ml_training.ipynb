{
 "cells": [
  {
   "cell_type": "markdown",
   "metadata": {},
   "source": [
    "## ML Training\n",
    "\n",
    "Train models to be used in simulate_prediction"
   ]
  },
  {
   "cell_type": "code",
   "execution_count": 1,
   "metadata": {},
   "outputs": [],
   "source": [
    "%load_ext autoreload\n",
    "%autoreload 2"
   ]
  },
  {
   "cell_type": "code",
   "execution_count": 2,
   "metadata": {},
   "outputs": [
    {
     "name": "stderr",
     "output_type": "stream",
     "text": [
      "Intel(R) Extension for Scikit-learn* enabled (https://github.com/intel/scikit-learn-intelex)\n"
     ]
    }
   ],
   "source": [
    "from sklearnex import patch_sklearn\n",
    "patch_sklearn()\n",
    "\n",
    "import numpy as np\n",
    "import matplotlib.pyplot as plt\n",
    "import matplotlib.animation as animation\n",
    "from pathlib import Path\n",
    "import h5py\n",
    "import pickle\n",
    "from tqdm.notebook import tqdm\n",
    "import pandas as pd\n",
    "\n",
    "from sklearn.model_selection import train_test_split\n",
    "from skimage.transform import resize\n",
    "from sklearn.linear_model import LinearRegression\n",
    "from sklearn.metrics import root_mean_squared_error, mean_absolute_error\n",
    "\n",
    "from src.data.file_utils import GetEmission\n",
    "from src.models import predict #model\n",
    "from src.utils.helpers import *\n",
    "\n",
    "from IPython.display import clear_output"
   ]
  },
  {
   "cell_type": "code",
   "execution_count": 3,
   "metadata": {},
   "outputs": [
    {
     "name": "stdout",
     "output_type": "stream",
     "text": [
      "0 ../models/weighted_outer_allold_set.pkl\n",
      "1 ../models/weighted_outer_all1.pkl\n",
      "2 ../models/lr_tv_inv_outer.pkl\n",
      "3 ../models/weighted_outer_all.pkl\n",
      "4 ../models/weighted_outer_allnew_half_set.pkl\n",
      "5 ../models/weighted_outer_all2.pkl\n",
      "6 ../models/lr_inversion_manual.pkl\n",
      "7 ../models/weighted_outer_l-mode.pkl\n",
      "8 ../models/weighted_outer_h-mode.pkl\n",
      "9 ../models/lr.pkl\n",
      "10 ../models/lr_supervised_mdl.pkl\n"
     ]
    }
   ],
   "source": [
    "models = predict.list_models()\n",
    "for idx, model in enumerate(models):\n",
    "    print(idx, model)"
   ]
  },
  {
   "cell_type": "markdown",
   "metadata": {},
   "source": [
    "# Data Prep"
   ]
  },
  {
   "cell_type": "code",
   "execution_count": 4,
   "metadata": {},
   "outputs": [],
   "source": [
    "run_type = 'all'\n",
    "prep_filename = 'weighted_outer_dataset_' + run_type\n",
    "prediction_filename = 'weighted_outer_' + run_type\n",
    "algorithm = 'linear'\n",
    "split_ratio = 0.2"
   ]
  },
  {
   "cell_type": "code",
   "execution_count": 5,
   "metadata": {},
   "outputs": [],
   "source": [
    "tv_path = Path('../data/raw') / run_type\n",
    "label_path = Path('../data/labels/weighted_emission') / run_type\n",
    "prep_path = Path('../data/processed/hdf5')\n",
    "model_path = Path('../models')"
   ]
  },
  {
   "cell_type": "code",
   "execution_count": 6,
   "metadata": {},
   "outputs": [
    {
     "name": "stdout",
     "output_type": "stream",
     "text": [
      "Number of files: 26\n",
      "Number of files: 26\n"
     ]
    }
   ],
   "source": [
    "tv = GetEmission(tv_path)\n",
    "files = tv.list_files()\n",
    "file_lengths = tv.file_lengths()\n",
    "cumulative_lengths = np.insert(np.cumsum(file_lengths), 0, 0)\n",
    "tv_dim = tv.load(files[0], 'vid').shape"
   ]
  },
  {
   "cell_type": "code",
   "execution_count": 38,
   "metadata": {},
   "outputs": [],
   "source": [
    "ml_id = '4'\n",
    "file_name = prep_filename + '.h5'"
   ]
  },
  {
   "cell_type": "code",
   "execution_count": 10,
   "metadata": {},
   "outputs": [],
   "source": [
    "target_cdf = np.load('../data/processed/histogram/target_cdf.npy')\n",
    "bin_edges = np.load('../data/processed/histogram/bin_edges.npy')"
   ]
  },
  {
   "cell_type": "markdown",
   "metadata": {},
   "source": [
    "### Fill Out TV Image Data"
   ]
  },
  {
   "cell_type": "code",
   "execution_count": 40,
   "metadata": {},
   "outputs": [],
   "source": [
    "def file_split_compile_prep(split_ratio,\n",
    "                      prep_path,\n",
    "                      prep_filename,\n",
    "                      label_path,\n",
    "                      files):\n",
    "    # split by file\n",
    "    train_files, test_files = train_test_split(files, test_size=split_ratio, random_state=182)\n",
    "    #train_files = files # use when wanting to make a deployable model\n",
    "\n",
    "    points_train = []\n",
    "    tv_train = []\n",
    "    points_test = []\n",
    "    tv_test = []\n",
    "\n",
    "    for _, file in enumerate(train_files):\n",
    "        print('Appending Training: ',file.stem)\n",
    "        frames = tv.load(file, 'frames').astype('int')\n",
    "        tv_image = tv.load(file, 'vid')[frames]\n",
    "        tv_image = tv_image[:, ::2, ::3]\n",
    "        tv_image = noisify(tv_image).astype(np.float32) / 256\n",
    "        tv_image = match_images_to_histogram(tv_image, target_cdf, bin_edges)\n",
    "        tv_image = normalize_image(tv_image) * 256\n",
    "        \n",
    "        test_label_file = (label_path / file.stem).with_suffix('.pkl')\n",
    "        with open(test_label_file, 'rb') as f:\n",
    "            labels = pickle.load(f)\n",
    "            \n",
    "        for i in range(len(frames)):\n",
    "            tv_train.append(tv_image[i])\n",
    "            points_train.append(labels[i])\n",
    "            \n",
    "    for _, file in enumerate(test_files):\n",
    "        print('Appending Testing: ',file.stem)\n",
    "        frames = tv.load(file, 'frames').astype('int')\n",
    "        tv_image = tv.load(file, 'vid')[frames]\n",
    "        tv_image = tv_image[:, ::2, ::3]\n",
    "        tv_image = noisify(tv_image).astype(np.float32) / 256\n",
    "        tv_image = match_images_to_histogram(tv_image, target_cdf, bin_edges)\n",
    "        tv_image = normalize_image(tv_image) * 256\n",
    "        \n",
    "        test_label_file = (label_path / file.stem).with_suffix('.pkl')\n",
    "        with open(test_label_file, 'rb') as f:\n",
    "            labels = pickle.load(f)\n",
    "            \n",
    "        for i in range(len(frames)):\n",
    "            tv_test.append(tv_image[i])\n",
    "            points_test.append(labels[i])\n",
    "            \n",
    "    with h5py.File(prep_path / str(prep_filename + '.h5'), 'w') as f:\n",
    "        f.create_dataset('vid_train', data=tv_train)\n",
    "        f.create_dataset('points_train', data=points_train)\n",
    "        f.create_dataset('vid_test', data=tv_test)\n",
    "        f.create_dataset('points_test', data=points_test)\n",
    "    print(str(prep_path / str(prep_filename + '.h5')),'has been saved!')"
   ]
  },
  {
   "cell_type": "code",
   "execution_count": 41,
   "metadata": {},
   "outputs": [
    {
     "name": "stdout",
     "output_type": "stream",
     "text": [
      "Appending Training:  emission_structure_pu_cam240perp_189448\n",
      "Appending Training:  emission_structure_pu_cam240perp_199171\n",
      "Appending Training:  emission_structure_pu_cam240perp_190113\n",
      "Appending Training:  emission_structure_pu_cam240perp_189100\n",
      "Appending Training:  emission_structure_pu_cam240perp_189451\n",
      "Appending Training:  emission_structure_pu_cam240perp_189057\n",
      "Appending Training:  emission_structure_pu_cam240perp_189093\n",
      "Appending Training:  emission_structure_pu_cam240perp_190115\n",
      "Appending Training:  emission_structure_pu_cam240perp_189081\n",
      "Appending Training:  emission_structure_pu_cam240perp_189101\n",
      "Appending Training:  emission_structure_pu_cam240perp_199166\n",
      "Appending Training:  emission_structure_pu_cam240perp_189061\n",
      "Appending Training:  emission_structure_pu_cam240perp_189094\n",
      "Appending Training:  emission_structure_pu_cam240perp_199172\n",
      "Appending Training:  emission_structure_pu_cam240perp_189090\n",
      "Appending Training:  emission_structure_pu_cam240perp_199351\n",
      "Appending Training:  emission_structure_pu_cam240perp_189062\n",
      "Appending Training:  emission_structure_pu_cam240perp_190116\n",
      "Appending Training:  emission_structure_pu_cam240perp_189097\n",
      "Appending Training:  emission_structure_pu_cam240perp_199354\n",
      "Appending Testing:  emission_structure_pu_cam240perp_199353\n",
      "Appending Testing:  emission_structure_pu_cam240perp_199352\n",
      "Appending Testing:  emission_structure_pu_cam240perp_190114\n",
      "Appending Testing:  emission_structure_pu_cam240perp_190110\n",
      "Appending Testing:  emission_structure_pu_cam240perp_189088\n",
      "Appending Testing:  emission_structure_pu_cam240perp_190109\n",
      "../data/processed/hdf5/weighted_outer_dataset_all.h5 has been saved!\n"
     ]
    }
   ],
   "source": [
    "file_split_compile_prep(split_ratio, prep_path, prep_filename, label_path, files)"
   ]
  },
  {
   "cell_type": "markdown",
   "metadata": {},
   "source": [
    "# Train Test Deploy"
   ]
  },
  {
   "cell_type": "markdown",
   "metadata": {},
   "source": [
    "## Linear Regression"
   ]
  },
  {
   "cell_type": "markdown",
   "metadata": {},
   "source": [
    "### Train"
   ]
  },
  {
   "cell_type": "code",
   "execution_count": 42,
   "metadata": {},
   "outputs": [
    {
     "name": "stdout",
     "output_type": "stream",
     "text": [
      "Number of files: 26\n"
     ]
    }
   ],
   "source": [
    "file_name = prep_filename + '.h5'\n",
    "\n",
    "with h5py.File(prep_path / file_name, 'r') as f:\n",
    "    vid_train = f['vid_train'][:]\n",
    "    points_train = f['points_train'][:]\n",
    "    vid_test = f['vid_test'][:]\n",
    "    points_test = f['points_test'][:]\n",
    "\n",
    "files = tv.list_files()\n",
    "elevation = tv.load(files[0], 'elevation')[0]\n",
    "radii = tv.load(files[0], 'radii')[0]\n",
    "vid_shape = tv.load(files[0], 'vid')[0].shape\n",
    "\n",
    "X_train = flatten(vid_train)\n",
    "X_test = flatten(vid_test)\n",
    "y_train = points_train\n",
    "y_test = points_test"
   ]
  },
  {
   "cell_type": "code",
   "execution_count": 43,
   "metadata": {},
   "outputs": [
    {
     "data": {
      "text/html": [
       "<style>#sk-container-id-5 {\n",
       "  /* Definition of color scheme common for light and dark mode */\n",
       "  --sklearn-color-text: black;\n",
       "  --sklearn-color-line: gray;\n",
       "  /* Definition of color scheme for unfitted estimators */\n",
       "  --sklearn-color-unfitted-level-0: #fff5e6;\n",
       "  --sklearn-color-unfitted-level-1: #f6e4d2;\n",
       "  --sklearn-color-unfitted-level-2: #ffe0b3;\n",
       "  --sklearn-color-unfitted-level-3: chocolate;\n",
       "  /* Definition of color scheme for fitted estimators */\n",
       "  --sklearn-color-fitted-level-0: #f0f8ff;\n",
       "  --sklearn-color-fitted-level-1: #d4ebff;\n",
       "  --sklearn-color-fitted-level-2: #b3dbfd;\n",
       "  --sklearn-color-fitted-level-3: cornflowerblue;\n",
       "\n",
       "  /* Specific color for light theme */\n",
       "  --sklearn-color-text-on-default-background: var(--sg-text-color, var(--theme-code-foreground, var(--jp-content-font-color1, black)));\n",
       "  --sklearn-color-background: var(--sg-background-color, var(--theme-background, var(--jp-layout-color0, white)));\n",
       "  --sklearn-color-border-box: var(--sg-text-color, var(--theme-code-foreground, var(--jp-content-font-color1, black)));\n",
       "  --sklearn-color-icon: #696969;\n",
       "\n",
       "  @media (prefers-color-scheme: dark) {\n",
       "    /* Redefinition of color scheme for dark theme */\n",
       "    --sklearn-color-text-on-default-background: var(--sg-text-color, var(--theme-code-foreground, var(--jp-content-font-color1, white)));\n",
       "    --sklearn-color-background: var(--sg-background-color, var(--theme-background, var(--jp-layout-color0, #111)));\n",
       "    --sklearn-color-border-box: var(--sg-text-color, var(--theme-code-foreground, var(--jp-content-font-color1, white)));\n",
       "    --sklearn-color-icon: #878787;\n",
       "  }\n",
       "}\n",
       "\n",
       "#sk-container-id-5 {\n",
       "  color: var(--sklearn-color-text);\n",
       "}\n",
       "\n",
       "#sk-container-id-5 pre {\n",
       "  padding: 0;\n",
       "}\n",
       "\n",
       "#sk-container-id-5 input.sk-hidden--visually {\n",
       "  border: 0;\n",
       "  clip: rect(1px 1px 1px 1px);\n",
       "  clip: rect(1px, 1px, 1px, 1px);\n",
       "  height: 1px;\n",
       "  margin: -1px;\n",
       "  overflow: hidden;\n",
       "  padding: 0;\n",
       "  position: absolute;\n",
       "  width: 1px;\n",
       "}\n",
       "\n",
       "#sk-container-id-5 div.sk-dashed-wrapped {\n",
       "  border: 1px dashed var(--sklearn-color-line);\n",
       "  margin: 0 0.4em 0.5em 0.4em;\n",
       "  box-sizing: border-box;\n",
       "  padding-bottom: 0.4em;\n",
       "  background-color: var(--sklearn-color-background);\n",
       "}\n",
       "\n",
       "#sk-container-id-5 div.sk-container {\n",
       "  /* jupyter's `normalize.less` sets `[hidden] { display: none; }`\n",
       "     but bootstrap.min.css set `[hidden] { display: none !important; }`\n",
       "     so we also need the `!important` here to be able to override the\n",
       "     default hidden behavior on the sphinx rendered scikit-learn.org.\n",
       "     See: https://github.com/scikit-learn/scikit-learn/issues/21755 */\n",
       "  display: inline-block !important;\n",
       "  position: relative;\n",
       "}\n",
       "\n",
       "#sk-container-id-5 div.sk-text-repr-fallback {\n",
       "  display: none;\n",
       "}\n",
       "\n",
       "div.sk-parallel-item,\n",
       "div.sk-serial,\n",
       "div.sk-item {\n",
       "  /* draw centered vertical line to link estimators */\n",
       "  background-image: linear-gradient(var(--sklearn-color-text-on-default-background), var(--sklearn-color-text-on-default-background));\n",
       "  background-size: 2px 100%;\n",
       "  background-repeat: no-repeat;\n",
       "  background-position: center center;\n",
       "}\n",
       "\n",
       "/* Parallel-specific style estimator block */\n",
       "\n",
       "#sk-container-id-5 div.sk-parallel-item::after {\n",
       "  content: \"\";\n",
       "  width: 100%;\n",
       "  border-bottom: 2px solid var(--sklearn-color-text-on-default-background);\n",
       "  flex-grow: 1;\n",
       "}\n",
       "\n",
       "#sk-container-id-5 div.sk-parallel {\n",
       "  display: flex;\n",
       "  align-items: stretch;\n",
       "  justify-content: center;\n",
       "  background-color: var(--sklearn-color-background);\n",
       "  position: relative;\n",
       "}\n",
       "\n",
       "#sk-container-id-5 div.sk-parallel-item {\n",
       "  display: flex;\n",
       "  flex-direction: column;\n",
       "}\n",
       "\n",
       "#sk-container-id-5 div.sk-parallel-item:first-child::after {\n",
       "  align-self: flex-end;\n",
       "  width: 50%;\n",
       "}\n",
       "\n",
       "#sk-container-id-5 div.sk-parallel-item:last-child::after {\n",
       "  align-self: flex-start;\n",
       "  width: 50%;\n",
       "}\n",
       "\n",
       "#sk-container-id-5 div.sk-parallel-item:only-child::after {\n",
       "  width: 0;\n",
       "}\n",
       "\n",
       "/* Serial-specific style estimator block */\n",
       "\n",
       "#sk-container-id-5 div.sk-serial {\n",
       "  display: flex;\n",
       "  flex-direction: column;\n",
       "  align-items: center;\n",
       "  background-color: var(--sklearn-color-background);\n",
       "  padding-right: 1em;\n",
       "  padding-left: 1em;\n",
       "}\n",
       "\n",
       "\n",
       "/* Toggleable style: style used for estimator/Pipeline/ColumnTransformer box that is\n",
       "clickable and can be expanded/collapsed.\n",
       "- Pipeline and ColumnTransformer use this feature and define the default style\n",
       "- Estimators will overwrite some part of the style using the `sk-estimator` class\n",
       "*/\n",
       "\n",
       "/* Pipeline and ColumnTransformer style (default) */\n",
       "\n",
       "#sk-container-id-5 div.sk-toggleable {\n",
       "  /* Default theme specific background. It is overwritten whether we have a\n",
       "  specific estimator or a Pipeline/ColumnTransformer */\n",
       "  background-color: var(--sklearn-color-background);\n",
       "}\n",
       "\n",
       "/* Toggleable label */\n",
       "#sk-container-id-5 label.sk-toggleable__label {\n",
       "  cursor: pointer;\n",
       "  display: block;\n",
       "  width: 100%;\n",
       "  margin-bottom: 0;\n",
       "  padding: 0.5em;\n",
       "  box-sizing: border-box;\n",
       "  text-align: center;\n",
       "}\n",
       "\n",
       "#sk-container-id-5 label.sk-toggleable__label-arrow:before {\n",
       "  /* Arrow on the left of the label */\n",
       "  content: \"▸\";\n",
       "  float: left;\n",
       "  margin-right: 0.25em;\n",
       "  color: var(--sklearn-color-icon);\n",
       "}\n",
       "\n",
       "#sk-container-id-5 label.sk-toggleable__label-arrow:hover:before {\n",
       "  color: var(--sklearn-color-text);\n",
       "}\n",
       "\n",
       "/* Toggleable content - dropdown */\n",
       "\n",
       "#sk-container-id-5 div.sk-toggleable__content {\n",
       "  max-height: 0;\n",
       "  max-width: 0;\n",
       "  overflow: hidden;\n",
       "  text-align: left;\n",
       "  /* unfitted */\n",
       "  background-color: var(--sklearn-color-unfitted-level-0);\n",
       "}\n",
       "\n",
       "#sk-container-id-5 div.sk-toggleable__content.fitted {\n",
       "  /* fitted */\n",
       "  background-color: var(--sklearn-color-fitted-level-0);\n",
       "}\n",
       "\n",
       "#sk-container-id-5 div.sk-toggleable__content pre {\n",
       "  margin: 0.2em;\n",
       "  border-radius: 0.25em;\n",
       "  color: var(--sklearn-color-text);\n",
       "  /* unfitted */\n",
       "  background-color: var(--sklearn-color-unfitted-level-0);\n",
       "}\n",
       "\n",
       "#sk-container-id-5 div.sk-toggleable__content.fitted pre {\n",
       "  /* unfitted */\n",
       "  background-color: var(--sklearn-color-fitted-level-0);\n",
       "}\n",
       "\n",
       "#sk-container-id-5 input.sk-toggleable__control:checked~div.sk-toggleable__content {\n",
       "  /* Expand drop-down */\n",
       "  max-height: 200px;\n",
       "  max-width: 100%;\n",
       "  overflow: auto;\n",
       "}\n",
       "\n",
       "#sk-container-id-5 input.sk-toggleable__control:checked~label.sk-toggleable__label-arrow:before {\n",
       "  content: \"▾\";\n",
       "}\n",
       "\n",
       "/* Pipeline/ColumnTransformer-specific style */\n",
       "\n",
       "#sk-container-id-5 div.sk-label input.sk-toggleable__control:checked~label.sk-toggleable__label {\n",
       "  color: var(--sklearn-color-text);\n",
       "  background-color: var(--sklearn-color-unfitted-level-2);\n",
       "}\n",
       "\n",
       "#sk-container-id-5 div.sk-label.fitted input.sk-toggleable__control:checked~label.sk-toggleable__label {\n",
       "  background-color: var(--sklearn-color-fitted-level-2);\n",
       "}\n",
       "\n",
       "/* Estimator-specific style */\n",
       "\n",
       "/* Colorize estimator box */\n",
       "#sk-container-id-5 div.sk-estimator input.sk-toggleable__control:checked~label.sk-toggleable__label {\n",
       "  /* unfitted */\n",
       "  background-color: var(--sklearn-color-unfitted-level-2);\n",
       "}\n",
       "\n",
       "#sk-container-id-5 div.sk-estimator.fitted input.sk-toggleable__control:checked~label.sk-toggleable__label {\n",
       "  /* fitted */\n",
       "  background-color: var(--sklearn-color-fitted-level-2);\n",
       "}\n",
       "\n",
       "#sk-container-id-5 div.sk-label label.sk-toggleable__label,\n",
       "#sk-container-id-5 div.sk-label label {\n",
       "  /* The background is the default theme color */\n",
       "  color: var(--sklearn-color-text-on-default-background);\n",
       "}\n",
       "\n",
       "/* On hover, darken the color of the background */\n",
       "#sk-container-id-5 div.sk-label:hover label.sk-toggleable__label {\n",
       "  color: var(--sklearn-color-text);\n",
       "  background-color: var(--sklearn-color-unfitted-level-2);\n",
       "}\n",
       "\n",
       "/* Label box, darken color on hover, fitted */\n",
       "#sk-container-id-5 div.sk-label.fitted:hover label.sk-toggleable__label.fitted {\n",
       "  color: var(--sklearn-color-text);\n",
       "  background-color: var(--sklearn-color-fitted-level-2);\n",
       "}\n",
       "\n",
       "/* Estimator label */\n",
       "\n",
       "#sk-container-id-5 div.sk-label label {\n",
       "  font-family: monospace;\n",
       "  font-weight: bold;\n",
       "  display: inline-block;\n",
       "  line-height: 1.2em;\n",
       "}\n",
       "\n",
       "#sk-container-id-5 div.sk-label-container {\n",
       "  text-align: center;\n",
       "}\n",
       "\n",
       "/* Estimator-specific */\n",
       "#sk-container-id-5 div.sk-estimator {\n",
       "  font-family: monospace;\n",
       "  border: 1px dotted var(--sklearn-color-border-box);\n",
       "  border-radius: 0.25em;\n",
       "  box-sizing: border-box;\n",
       "  margin-bottom: 0.5em;\n",
       "  /* unfitted */\n",
       "  background-color: var(--sklearn-color-unfitted-level-0);\n",
       "}\n",
       "\n",
       "#sk-container-id-5 div.sk-estimator.fitted {\n",
       "  /* fitted */\n",
       "  background-color: var(--sklearn-color-fitted-level-0);\n",
       "}\n",
       "\n",
       "/* on hover */\n",
       "#sk-container-id-5 div.sk-estimator:hover {\n",
       "  /* unfitted */\n",
       "  background-color: var(--sklearn-color-unfitted-level-2);\n",
       "}\n",
       "\n",
       "#sk-container-id-5 div.sk-estimator.fitted:hover {\n",
       "  /* fitted */\n",
       "  background-color: var(--sklearn-color-fitted-level-2);\n",
       "}\n",
       "\n",
       "/* Specification for estimator info (e.g. \"i\" and \"?\") */\n",
       "\n",
       "/* Common style for \"i\" and \"?\" */\n",
       "\n",
       ".sk-estimator-doc-link,\n",
       "a:link.sk-estimator-doc-link,\n",
       "a:visited.sk-estimator-doc-link {\n",
       "  float: right;\n",
       "  font-size: smaller;\n",
       "  line-height: 1em;\n",
       "  font-family: monospace;\n",
       "  background-color: var(--sklearn-color-background);\n",
       "  border-radius: 1em;\n",
       "  height: 1em;\n",
       "  width: 1em;\n",
       "  text-decoration: none !important;\n",
       "  margin-left: 1ex;\n",
       "  /* unfitted */\n",
       "  border: var(--sklearn-color-unfitted-level-1) 1pt solid;\n",
       "  color: var(--sklearn-color-unfitted-level-1);\n",
       "}\n",
       "\n",
       ".sk-estimator-doc-link.fitted,\n",
       "a:link.sk-estimator-doc-link.fitted,\n",
       "a:visited.sk-estimator-doc-link.fitted {\n",
       "  /* fitted */\n",
       "  border: var(--sklearn-color-fitted-level-1) 1pt solid;\n",
       "  color: var(--sklearn-color-fitted-level-1);\n",
       "}\n",
       "\n",
       "/* On hover */\n",
       "div.sk-estimator:hover .sk-estimator-doc-link:hover,\n",
       ".sk-estimator-doc-link:hover,\n",
       "div.sk-label-container:hover .sk-estimator-doc-link:hover,\n",
       ".sk-estimator-doc-link:hover {\n",
       "  /* unfitted */\n",
       "  background-color: var(--sklearn-color-unfitted-level-3);\n",
       "  color: var(--sklearn-color-background);\n",
       "  text-decoration: none;\n",
       "}\n",
       "\n",
       "div.sk-estimator.fitted:hover .sk-estimator-doc-link.fitted:hover,\n",
       ".sk-estimator-doc-link.fitted:hover,\n",
       "div.sk-label-container:hover .sk-estimator-doc-link.fitted:hover,\n",
       ".sk-estimator-doc-link.fitted:hover {\n",
       "  /* fitted */\n",
       "  background-color: var(--sklearn-color-fitted-level-3);\n",
       "  color: var(--sklearn-color-background);\n",
       "  text-decoration: none;\n",
       "}\n",
       "\n",
       "/* Span, style for the box shown on hovering the info icon */\n",
       ".sk-estimator-doc-link span {\n",
       "  display: none;\n",
       "  z-index: 9999;\n",
       "  position: relative;\n",
       "  font-weight: normal;\n",
       "  right: .2ex;\n",
       "  padding: .5ex;\n",
       "  margin: .5ex;\n",
       "  width: min-content;\n",
       "  min-width: 20ex;\n",
       "  max-width: 50ex;\n",
       "  color: var(--sklearn-color-text);\n",
       "  box-shadow: 2pt 2pt 4pt #999;\n",
       "  /* unfitted */\n",
       "  background: var(--sklearn-color-unfitted-level-0);\n",
       "  border: .5pt solid var(--sklearn-color-unfitted-level-3);\n",
       "}\n",
       "\n",
       ".sk-estimator-doc-link.fitted span {\n",
       "  /* fitted */\n",
       "  background: var(--sklearn-color-fitted-level-0);\n",
       "  border: var(--sklearn-color-fitted-level-3);\n",
       "}\n",
       "\n",
       ".sk-estimator-doc-link:hover span {\n",
       "  display: block;\n",
       "}\n",
       "\n",
       "/* \"?\"-specific style due to the `<a>` HTML tag */\n",
       "\n",
       "#sk-container-id-5 a.estimator_doc_link {\n",
       "  float: right;\n",
       "  font-size: 1rem;\n",
       "  line-height: 1em;\n",
       "  font-family: monospace;\n",
       "  background-color: var(--sklearn-color-background);\n",
       "  border-radius: 1rem;\n",
       "  height: 1rem;\n",
       "  width: 1rem;\n",
       "  text-decoration: none;\n",
       "  /* unfitted */\n",
       "  color: var(--sklearn-color-unfitted-level-1);\n",
       "  border: var(--sklearn-color-unfitted-level-1) 1pt solid;\n",
       "}\n",
       "\n",
       "#sk-container-id-5 a.estimator_doc_link.fitted {\n",
       "  /* fitted */\n",
       "  border: var(--sklearn-color-fitted-level-1) 1pt solid;\n",
       "  color: var(--sklearn-color-fitted-level-1);\n",
       "}\n",
       "\n",
       "/* On hover */\n",
       "#sk-container-id-5 a.estimator_doc_link:hover {\n",
       "  /* unfitted */\n",
       "  background-color: var(--sklearn-color-unfitted-level-3);\n",
       "  color: var(--sklearn-color-background);\n",
       "  text-decoration: none;\n",
       "}\n",
       "\n",
       "#sk-container-id-5 a.estimator_doc_link.fitted:hover {\n",
       "  /* fitted */\n",
       "  background-color: var(--sklearn-color-fitted-level-3);\n",
       "}\n",
       "</style><div id=\"sk-container-id-5\" class=\"sk-top-container\"><div class=\"sk-text-repr-fallback\"><pre>LinearRegression()</pre><b>In a Jupyter environment, please rerun this cell to show the HTML representation or trust the notebook. <br />On GitHub, the HTML representation is unable to render, please try loading this page with nbviewer.org.</b></div><div class=\"sk-container\" hidden><div class=\"sk-item\"><div class=\"sk-estimator fitted sk-toggleable\"><input class=\"sk-toggleable__control sk-hidden--visually\" id=\"sk-estimator-id-5\" type=\"checkbox\" checked><label for=\"sk-estimator-id-5\" class=\"sk-toggleable__label fitted sk-toggleable__label-arrow fitted\">&nbsp;LinearRegression<span class=\"sk-estimator-doc-link fitted\">i<span>Fitted</span></span></label><div class=\"sk-toggleable__content fitted\"><pre>LinearRegression()</pre></div> </div></div></div></div>"
      ],
      "text/plain": [
       "LinearRegression()"
      ]
     },
     "execution_count": 43,
     "metadata": {},
     "output_type": "execute_result"
    }
   ],
   "source": [
    "mdl = LinearRegression()\n",
    "mdl.fit(X_train, y_train)"
   ]
  },
  {
   "cell_type": "markdown",
   "metadata": {},
   "source": [
    "### Test"
   ]
  },
  {
   "cell_type": "code",
   "execution_count": 44,
   "metadata": {},
   "outputs": [
    {
     "name": "stdout",
     "output_type": "stream",
     "text": [
      "Mean Absolute Error: 0.7176949969778708\n",
      "Root Mean Squared Error:  1.2977087823048965\n"
     ]
    }
   ],
   "source": [
    "r_predict = mdl.predict(X_test)\n",
    "err = mean_absolute_error(r_predict,y_test) * 100\n",
    "print(f'Mean Absolute Error: {err}')\n",
    "print('Root Mean Squared Error: ', root_mean_squared_error(r_predict, y_test)*100)"
   ]
  },
  {
   "cell_type": "markdown",
   "metadata": {},
   "source": [
    "### Deploy"
   ]
  },
  {
   "cell_type": "code",
   "execution_count": 39,
   "metadata": {},
   "outputs": [
    {
     "name": "stdout",
     "output_type": "stream",
     "text": [
      "../models/weighted_outer_all4_coefficients.txt has been saved!\n",
      "Intercept (Please Write Down): -1.0988472\n"
     ]
    }
   ],
   "source": [
    "coefficients = mdl.coef_\n",
    "intercept = mdl.intercept_\n",
    "\n",
    "coefficients_file = model_path / f\"{prediction_filename}{ml_id}_coefficients.txt\"\n",
    "with open(coefficients_file, 'w') as f:\n",
    "    for coef in coefficients:\n",
    "        f.write(f\"{coef}\\n\")\n",
    "print(coefficients_file, \"has been saved!\")\n",
    "print(\"Intercept (Please Write Down):\", intercept)"
   ]
  },
  {
   "cell_type": "code",
   "execution_count": 22,
   "metadata": {},
   "outputs": [
    {
     "name": "stdout",
     "output_type": "stream",
     "text": [
      "Shot: 189101\n",
      "Saved ../data/labels/weighted_emission/h-mode/emission_structure_pu_cam240perp_189101.txt\n"
     ]
    }
   ],
   "source": [
    "# Optional (Predicting and Saving Points with Model)\n",
    "weight_ml_point_save_path = Path('../output/value/weight_ml_point') / run_type / ml_id\n",
    "weight_ml_point_save_path.mkdir(parents=True, exist_ok=True)\n",
    "\n",
    "for file in files:\n",
    "    \n",
    "    clear_output(wait=True)\n",
    "    \n",
    "    print('Shot:', file.stem.split('_')[-1])\n",
    "    point_save_name = weight_ml_point_save_path / f\"{file.stem}.pkl\"\n",
    "    label_file = (label_path / file.stem).with_suffix('.pkl')\n",
    "    with open(label_file, 'rb') as f:\n",
    "        labels_cartesian = pickle.load(f)\n",
    "    frames = tv.load(file, 'frames').astype('int')\n",
    "    tv_image = tv.load(file, 'vid')[frames]\n",
    "    tv_flatten = flatten(tv_image)\n",
    "    \n",
    "    prediction_cartesian = mdl.predict(tv_flatten)\n",
    "    txt_file = (label_path / file.stem).with_suffix('.txt')\n",
    "    with open(txt_file, 'w') as f:\n",
    "        for point in prediction_cartesian:\n",
    "            f.write(f\"{point},\")\n",
    "    print(f\"Saved {txt_file}\")"
   ]
  },
  {
   "cell_type": "markdown",
   "metadata": {},
   "source": [
    "### Loading Deployed Model / Predicted Points"
   ]
  },
  {
   "cell_type": "code",
   "execution_count": 43,
   "metadata": {},
   "outputs": [
    {
     "name": "stdout",
     "output_type": "stream",
     "text": [
      "../models/weighted_outer_all2_coefficients.txt\n",
      "172800\n"
     ]
    }
   ],
   "source": [
    "# how to load coefficients\n",
    "coefficients = []\n",
    "with open(coefficients_file, 'r') as f:\n",
    "    for line in f:\n",
    "        coefficients.append(float(line.strip()))\n",
    "        \n",
    "# how to load points\n",
    "with open(label_file, 'rb') as f:\n",
    "    labels_cartesian = pickle.load(f)\n",
    "    print(len(labels_cartesian))"
   ]
  },
  {
   "cell_type": "markdown",
   "metadata": {},
   "source": [
    "## Deep Learning"
   ]
  },
  {
   "cell_type": "markdown",
   "metadata": {},
   "source": [
    "# Save Video"
   ]
  },
  {
   "cell_type": "markdown",
   "metadata": {},
   "source": [
    "## Linear Regression"
   ]
  },
  {
   "cell_type": "code",
   "execution_count": 18,
   "metadata": {},
   "outputs": [],
   "source": [
    "tv = GetEmission(tv_path)\n",
    "files = tv.list_files()\n",
    "file_lengths = tv.file_lengths()\n",
    "cumulative_lengths = np.insert(np.cumsum(file_lengths), 0, 0)\n",
    "tv_dim = tv.load(files[0], 'vid').shape\n",
    "\n",
    "# with open(f\"{model_path / prediction_filename}.pkl\", 'rb') as f:\n",
    "#     model = pickle.load(f)\n",
    "    \n",
    "mp4_save_path = Path('../outputs/video/weighted_ml') / run_type\n",
    "mp4_save_path.mkdir(parents=True, exist_ok=True)"
   ]
  },
  {
   "cell_type": "code",
   "execution_count": 23,
   "metadata": {},
   "outputs": [
    {
     "name": "stdout",
     "output_type": "stream",
     "text": [
      "Shot: 199354\n",
      "Animating...\n",
      "Saving MP4...\n"
     ]
    }
   ],
   "source": [
    "for file in files:\n",
    "    \n",
    "    clear_output(wait=True)\n",
    "    \n",
    "    print('Shot:', file.stem.split('_')[-1])\n",
    "    mp4_save_name = mp4_save_path / f\"{file.stem.split('_')[-1]}.mp4\"\n",
    "    label_file = (label_path / file.stem).with_suffix('.pkl')\n",
    "    with open(label_file, 'rb') as f:\n",
    "        labels_cartesian = pickle.load(f)\n",
    "    frames = tv.load(file, 'frames').astype('int')\n",
    "    tv_image = tv.load(file, 'vid')[frames]\n",
    "    inverted = tv.load(file, 'inverted')\n",
    "    elevation = tv.load(file, 'elevation')[0]\n",
    "    \n",
    "    prediction_cartesian = model.predict(tv_image)\n",
    "    \n",
    "    prediction = get_index(prediction_cartesian, elevation, )\n",
    "    labels = get_index(labels_cartesian, elevation)\n",
    "\n",
    "    # Initialize figure and axes\n",
    "    print(\"Animating...\")\n",
    "    fig, ax = plt.subplots(1, 1, figsize=(5, 5))\n",
    "    \n",
    "    img = ax.imshow(inverted[0], origin='lower')\n",
    "    hline_label = ax.axhline(labels[0], c='lime', label='label')\n",
    "    hline_prediction = ax.axhline(prediction[0], c='red', label='prediction', ls='--')\n",
    "    ax.legend(loc='upper right')\n",
    "    ax.set_title(f'Inverted View: 0')\n",
    "\n",
    "    fig.suptitle(f\"Shot {file.stem.split('_')[-1]}\")\n",
    "    frames = []\n",
    "    # Function to update the plot\n",
    "    def update(idx):\n",
    "        img.set_data(inverted[idx])\n",
    "        \n",
    "        hline_label.set_ydata([labels[idx]])\n",
    "        hline_prediction.set_ydata([prediction[idx]])\n",
    "        \n",
    "        ax.set_title(f'Inverted View: {idx}')\n",
    "        \n",
    "        return img, hline_label, hline_prediction\n",
    "        \n",
    "    # Create the animation using FuncAnimation\n",
    "    ani = animation.FuncAnimation(fig, update, frames=range(inverted.shape[0]), blit=True, repeat=False)\n",
    "\n",
    "    # Save the animation as an MP4 file\n",
    "    print(\"Saving MP4...\")\n",
    "    FFwriter = animation.FFMpegWriter(fps=30, extra_args=[\"-vcodec\", \"libx264\"])\n",
    "    ani.save(mp4_save_name, writer=FFwriter)\n",
    "\n",
    "    plt.close(fig)"
   ]
  },
  {
   "cell_type": "markdown",
   "metadata": {},
   "source": [
    "## Deep Learning"
   ]
  },
  {
   "cell_type": "code",
   "execution_count": 66,
   "metadata": {},
   "outputs": [],
   "source": [
    "ml_id = ''\n",
    "tv = GetEmission(tv_path)\n",
    "files = tv.list_files()\n",
    "file_lengths = tv.file_lengths()\n",
    "cumulative_lengths = np.insert(np.cumsum(file_lengths), 0, 0)\n",
    "tv_dim = tv.load(files[0], 'vid').shape\n",
    "\n",
    "mdl2 = load_model(f\"{model_path / prediction_filename}{ml_id}.keras\")\n",
    "    \n",
    "mp4_save_path = Path('../outputs/video/weighted_dl') / run_type\n",
    "mp4_save_path.mkdir(parents=True, exist_ok=True)\n",
    "\n",
    "weight_ml_point_save_path = Path('../data/processed/weight_ml_point') / ml_id"
   ]
  },
  {
   "cell_type": "code",
   "execution_count": 67,
   "metadata": {},
   "outputs": [
    {
     "name": "stdout",
     "output_type": "stream",
     "text": [
      "Shot: 189057\n",
      "Animating...\n",
      "Saving MP4...\n"
     ]
    },
    {
     "ename": "FileNotFoundError",
     "evalue": "[Errno 2] No such file or directory: 'ffmpeg'",
     "output_type": "error",
     "traceback": [
      "\u001b[0;31m---------------------------------------------------------------------------\u001b[0m",
      "\u001b[0;31mFileNotFoundError\u001b[0m                         Traceback (most recent call last)",
      "Cell \u001b[0;32mIn[67], line 50\u001b[0m\n\u001b[1;32m     48\u001b[0m \u001b[38;5;28mprint\u001b[39m(\u001b[38;5;124m\"\u001b[39m\u001b[38;5;124mSaving MP4...\u001b[39m\u001b[38;5;124m\"\u001b[39m)\n\u001b[1;32m     49\u001b[0m FFwriter \u001b[38;5;241m=\u001b[39m animation\u001b[38;5;241m.\u001b[39mFFMpegWriter(fps\u001b[38;5;241m=\u001b[39m\u001b[38;5;241m30\u001b[39m, extra_args\u001b[38;5;241m=\u001b[39m[\u001b[38;5;124m\"\u001b[39m\u001b[38;5;124m-vcodec\u001b[39m\u001b[38;5;124m\"\u001b[39m, \u001b[38;5;124m\"\u001b[39m\u001b[38;5;124mlibx264\u001b[39m\u001b[38;5;124m\"\u001b[39m])\n\u001b[0;32m---> 50\u001b[0m ani\u001b[38;5;241m.\u001b[39msave(mp4_save_name, writer\u001b[38;5;241m=\u001b[39mFFwriter)\n\u001b[1;32m     52\u001b[0m plt\u001b[38;5;241m.\u001b[39mclose(fig)\n",
      "File \u001b[0;32m~/.conda/envs/plasma-tv/lib/python3.12/site-packages/matplotlib/animation.py:1069\u001b[0m, in \u001b[0;36mAnimation.save\u001b[0;34m(self, filename, writer, fps, dpi, codec, bitrate, extra_args, metadata, extra_anim, savefig_kwargs, progress_callback)\u001b[0m\n\u001b[1;32m   1065\u001b[0m savefig_kwargs[\u001b[38;5;124m'\u001b[39m\u001b[38;5;124mtransparent\u001b[39m\u001b[38;5;124m'\u001b[39m] \u001b[38;5;241m=\u001b[39m \u001b[38;5;28;01mFalse\u001b[39;00m   \u001b[38;5;66;03m# just to be safe!\u001b[39;00m\n\u001b[1;32m   1066\u001b[0m \u001b[38;5;66;03m# canvas._is_saving = True makes the draw_event animation-starting\u001b[39;00m\n\u001b[1;32m   1067\u001b[0m \u001b[38;5;66;03m# callback a no-op; canvas.manager = None prevents resizing the GUI\u001b[39;00m\n\u001b[1;32m   1068\u001b[0m \u001b[38;5;66;03m# widget (both are likewise done in savefig()).\u001b[39;00m\n\u001b[0;32m-> 1069\u001b[0m \u001b[38;5;28;01mwith\u001b[39;00m writer\u001b[38;5;241m.\u001b[39msaving(\u001b[38;5;28mself\u001b[39m\u001b[38;5;241m.\u001b[39m_fig, filename, dpi), \\\n\u001b[1;32m   1070\u001b[0m      cbook\u001b[38;5;241m.\u001b[39m_setattr_cm(\u001b[38;5;28mself\u001b[39m\u001b[38;5;241m.\u001b[39m_fig\u001b[38;5;241m.\u001b[39mcanvas, _is_saving\u001b[38;5;241m=\u001b[39m\u001b[38;5;28;01mTrue\u001b[39;00m, manager\u001b[38;5;241m=\u001b[39m\u001b[38;5;28;01mNone\u001b[39;00m):\n\u001b[1;32m   1071\u001b[0m     \u001b[38;5;28;01mfor\u001b[39;00m anim \u001b[38;5;129;01min\u001b[39;00m all_anim:\n\u001b[1;32m   1072\u001b[0m         anim\u001b[38;5;241m.\u001b[39m_init_draw()  \u001b[38;5;66;03m# Clear the initial frame\u001b[39;00m\n",
      "File \u001b[0;32m~/.conda/envs/plasma-tv/lib/python3.12/contextlib.py:137\u001b[0m, in \u001b[0;36m_GeneratorContextManager.__enter__\u001b[0;34m(self)\u001b[0m\n\u001b[1;32m    135\u001b[0m \u001b[38;5;28;01mdel\u001b[39;00m \u001b[38;5;28mself\u001b[39m\u001b[38;5;241m.\u001b[39margs, \u001b[38;5;28mself\u001b[39m\u001b[38;5;241m.\u001b[39mkwds, \u001b[38;5;28mself\u001b[39m\u001b[38;5;241m.\u001b[39mfunc\n\u001b[1;32m    136\u001b[0m \u001b[38;5;28;01mtry\u001b[39;00m:\n\u001b[0;32m--> 137\u001b[0m     \u001b[38;5;28;01mreturn\u001b[39;00m \u001b[38;5;28mnext\u001b[39m(\u001b[38;5;28mself\u001b[39m\u001b[38;5;241m.\u001b[39mgen)\n\u001b[1;32m    138\u001b[0m \u001b[38;5;28;01mexcept\u001b[39;00m \u001b[38;5;167;01mStopIteration\u001b[39;00m:\n\u001b[1;32m    139\u001b[0m     \u001b[38;5;28;01mraise\u001b[39;00m \u001b[38;5;167;01mRuntimeError\u001b[39;00m(\u001b[38;5;124m\"\u001b[39m\u001b[38;5;124mgenerator didn\u001b[39m\u001b[38;5;124m'\u001b[39m\u001b[38;5;124mt yield\u001b[39m\u001b[38;5;124m\"\u001b[39m) \u001b[38;5;28;01mfrom\u001b[39;00m \u001b[38;5;28;01mNone\u001b[39;00m\n",
      "File \u001b[0;32m~/.conda/envs/plasma-tv/lib/python3.12/site-packages/matplotlib/animation.py:220\u001b[0m, in \u001b[0;36mAbstractMovieWriter.saving\u001b[0;34m(self, fig, outfile, dpi, *args, **kwargs)\u001b[0m\n\u001b[1;32m    215\u001b[0m     _log\u001b[38;5;241m.\u001b[39minfo(\u001b[38;5;124m\"\u001b[39m\u001b[38;5;124mDisabling savefig.bbox = \u001b[39m\u001b[38;5;124m'\u001b[39m\u001b[38;5;124mtight\u001b[39m\u001b[38;5;124m'\u001b[39m\u001b[38;5;124m, as it may cause \u001b[39m\u001b[38;5;124m\"\u001b[39m\n\u001b[1;32m    216\u001b[0m               \u001b[38;5;124m\"\u001b[39m\u001b[38;5;124mframe size to vary, which is inappropriate for \u001b[39m\u001b[38;5;124m\"\u001b[39m\n\u001b[1;32m    217\u001b[0m               \u001b[38;5;124m\"\u001b[39m\u001b[38;5;124manimation.\u001b[39m\u001b[38;5;124m\"\u001b[39m)\n\u001b[1;32m    219\u001b[0m \u001b[38;5;66;03m# This particular sequence is what contextlib.contextmanager wants\u001b[39;00m\n\u001b[0;32m--> 220\u001b[0m \u001b[38;5;28mself\u001b[39m\u001b[38;5;241m.\u001b[39msetup(fig, outfile, dpi, \u001b[38;5;241m*\u001b[39margs, \u001b[38;5;241m*\u001b[39m\u001b[38;5;241m*\u001b[39mkwargs)\n\u001b[1;32m    221\u001b[0m \u001b[38;5;28;01mwith\u001b[39;00m mpl\u001b[38;5;241m.\u001b[39mrc_context({\u001b[38;5;124m'\u001b[39m\u001b[38;5;124msavefig.bbox\u001b[39m\u001b[38;5;124m'\u001b[39m: \u001b[38;5;28;01mNone\u001b[39;00m}):\n\u001b[1;32m    222\u001b[0m     \u001b[38;5;28;01mtry\u001b[39;00m:\n",
      "File \u001b[0;32m~/.conda/envs/plasma-tv/lib/python3.12/site-packages/matplotlib/animation.py:311\u001b[0m, in \u001b[0;36mMovieWriter.setup\u001b[0;34m(self, fig, outfile, dpi)\u001b[0m\n\u001b[1;32m    308\u001b[0m \u001b[38;5;28mself\u001b[39m\u001b[38;5;241m.\u001b[39m_w, \u001b[38;5;28mself\u001b[39m\u001b[38;5;241m.\u001b[39m_h \u001b[38;5;241m=\u001b[39m \u001b[38;5;28mself\u001b[39m\u001b[38;5;241m.\u001b[39m_adjust_frame_size()\n\u001b[1;32m    309\u001b[0m \u001b[38;5;66;03m# Run here so that grab_frame() can write the data to a pipe. This\u001b[39;00m\n\u001b[1;32m    310\u001b[0m \u001b[38;5;66;03m# eliminates the need for temp files.\u001b[39;00m\n\u001b[0;32m--> 311\u001b[0m \u001b[38;5;28mself\u001b[39m\u001b[38;5;241m.\u001b[39m_run()\n",
      "File \u001b[0;32m~/.conda/envs/plasma-tv/lib/python3.12/site-packages/matplotlib/animation.py:321\u001b[0m, in \u001b[0;36mMovieWriter._run\u001b[0;34m(self)\u001b[0m\n\u001b[1;32m    318\u001b[0m _log\u001b[38;5;241m.\u001b[39minfo(\u001b[38;5;124m'\u001b[39m\u001b[38;5;124mMovieWriter._run: running command: \u001b[39m\u001b[38;5;132;01m%s\u001b[39;00m\u001b[38;5;124m'\u001b[39m,\n\u001b[1;32m    319\u001b[0m           cbook\u001b[38;5;241m.\u001b[39m_pformat_subprocess(command))\n\u001b[1;32m    320\u001b[0m PIPE \u001b[38;5;241m=\u001b[39m subprocess\u001b[38;5;241m.\u001b[39mPIPE\n\u001b[0;32m--> 321\u001b[0m \u001b[38;5;28mself\u001b[39m\u001b[38;5;241m.\u001b[39m_proc \u001b[38;5;241m=\u001b[39m subprocess\u001b[38;5;241m.\u001b[39mPopen(\n\u001b[1;32m    322\u001b[0m     command, stdin\u001b[38;5;241m=\u001b[39mPIPE, stdout\u001b[38;5;241m=\u001b[39mPIPE, stderr\u001b[38;5;241m=\u001b[39mPIPE,\n\u001b[1;32m    323\u001b[0m     creationflags\u001b[38;5;241m=\u001b[39msubprocess_creation_flags)\n",
      "File \u001b[0;32m~/.conda/envs/plasma-tv/lib/python3.12/subprocess.py:1026\u001b[0m, in \u001b[0;36mPopen.__init__\u001b[0;34m(self, args, bufsize, executable, stdin, stdout, stderr, preexec_fn, close_fds, shell, cwd, env, universal_newlines, startupinfo, creationflags, restore_signals, start_new_session, pass_fds, user, group, extra_groups, encoding, errors, text, umask, pipesize, process_group)\u001b[0m\n\u001b[1;32m   1022\u001b[0m         \u001b[38;5;28;01mif\u001b[39;00m \u001b[38;5;28mself\u001b[39m\u001b[38;5;241m.\u001b[39mtext_mode:\n\u001b[1;32m   1023\u001b[0m             \u001b[38;5;28mself\u001b[39m\u001b[38;5;241m.\u001b[39mstderr \u001b[38;5;241m=\u001b[39m io\u001b[38;5;241m.\u001b[39mTextIOWrapper(\u001b[38;5;28mself\u001b[39m\u001b[38;5;241m.\u001b[39mstderr,\n\u001b[1;32m   1024\u001b[0m                     encoding\u001b[38;5;241m=\u001b[39mencoding, errors\u001b[38;5;241m=\u001b[39merrors)\n\u001b[0;32m-> 1026\u001b[0m     \u001b[38;5;28mself\u001b[39m\u001b[38;5;241m.\u001b[39m_execute_child(args, executable, preexec_fn, close_fds,\n\u001b[1;32m   1027\u001b[0m                         pass_fds, cwd, env,\n\u001b[1;32m   1028\u001b[0m                         startupinfo, creationflags, shell,\n\u001b[1;32m   1029\u001b[0m                         p2cread, p2cwrite,\n\u001b[1;32m   1030\u001b[0m                         c2pread, c2pwrite,\n\u001b[1;32m   1031\u001b[0m                         errread, errwrite,\n\u001b[1;32m   1032\u001b[0m                         restore_signals,\n\u001b[1;32m   1033\u001b[0m                         gid, gids, uid, umask,\n\u001b[1;32m   1034\u001b[0m                         start_new_session, process_group)\n\u001b[1;32m   1035\u001b[0m \u001b[38;5;28;01mexcept\u001b[39;00m:\n\u001b[1;32m   1036\u001b[0m     \u001b[38;5;66;03m# Cleanup if the child failed starting.\u001b[39;00m\n\u001b[1;32m   1037\u001b[0m     \u001b[38;5;28;01mfor\u001b[39;00m f \u001b[38;5;129;01min\u001b[39;00m \u001b[38;5;28mfilter\u001b[39m(\u001b[38;5;28;01mNone\u001b[39;00m, (\u001b[38;5;28mself\u001b[39m\u001b[38;5;241m.\u001b[39mstdin, \u001b[38;5;28mself\u001b[39m\u001b[38;5;241m.\u001b[39mstdout, \u001b[38;5;28mself\u001b[39m\u001b[38;5;241m.\u001b[39mstderr)):\n",
      "File \u001b[0;32m~/.conda/envs/plasma-tv/lib/python3.12/subprocess.py:1955\u001b[0m, in \u001b[0;36mPopen._execute_child\u001b[0;34m(self, args, executable, preexec_fn, close_fds, pass_fds, cwd, env, startupinfo, creationflags, shell, p2cread, p2cwrite, c2pread, c2pwrite, errread, errwrite, restore_signals, gid, gids, uid, umask, start_new_session, process_group)\u001b[0m\n\u001b[1;32m   1953\u001b[0m     err_msg \u001b[38;5;241m=\u001b[39m os\u001b[38;5;241m.\u001b[39mstrerror(errno_num)\n\u001b[1;32m   1954\u001b[0m \u001b[38;5;28;01mif\u001b[39;00m err_filename \u001b[38;5;129;01mis\u001b[39;00m \u001b[38;5;129;01mnot\u001b[39;00m \u001b[38;5;28;01mNone\u001b[39;00m:\n\u001b[0;32m-> 1955\u001b[0m     \u001b[38;5;28;01mraise\u001b[39;00m child_exception_type(errno_num, err_msg, err_filename)\n\u001b[1;32m   1956\u001b[0m \u001b[38;5;28;01melse\u001b[39;00m:\n\u001b[1;32m   1957\u001b[0m     \u001b[38;5;28;01mraise\u001b[39;00m child_exception_type(errno_num, err_msg)\n",
      "\u001b[0;31mFileNotFoundError\u001b[0m: [Errno 2] No such file or directory: 'ffmpeg'"
     ]
    },
    {
     "data": {
      "image/png": "[encoded data removed]",
      "text/plain": [
       "<Figure size 500x500 with 1 Axes>"
      ]
     },
     "metadata": {},
     "output_type": "display_data"
    }
   ],
   "source": [
    "for file in files:\n",
    "    \n",
    "    clear_output(wait=True)\n",
    "    \n",
    "    print('Shot:', file.stem.split('_')[-1])\n",
    "    mp4_save_name = mp4_save_path / f\"{file.stem.split('_')[-1]}.mp4\"\n",
    "    label_file = (label_path / file.stem).with_suffix('.pkl')\n",
    "    point_save_name = weight_ml_point_save_path / f\"dl{file.stem}.pkl\"\n",
    "    with open(label_file, 'rb') as f:\n",
    "        labels_cartesian = pickle.load(f)\n",
    "    frames = tv.load(file, 'frames').astype('int')\n",
    "    tv_image = tv.load(file, 'vid')[frames]\n",
    "    vid_input = np.expand_dims(tv_image, axis=3)\n",
    "    inverted = tv.load(file, 'inverted')\n",
    "    elevation = tv.load(file, 'elevation')[0]\n",
    "    with open(point_save_name, 'rb') as f:\n",
    "        prediction_cartesian = pickle.load(f)\n",
    "    prediction = get_index(prediction_cartesian, elevation, )\n",
    "    labels = get_index(labels_cartesian, elevation)\n",
    "\n",
    "    # Initialize figure and axes\n",
    "    print(\"Animating...\")\n",
    "    fig, ax = plt.subplots(1, 1, figsize=(5, 5))\n",
    "    \n",
    "    img = ax.imshow(inverted[0], origin='lower')\n",
    "    hline_label = ax.axhline(labels[0], c='lime', label='label')\n",
    "    hline_prediction = ax.axhline(prediction[0], c='red', label='prediction', ls='--')\n",
    "    ax.legend(loc='upper right')\n",
    "    ax.set_title(f'Inverted View: 0')\n",
    "\n",
    "    fig.suptitle(f\"Shot {file.stem.split('_')[-1]}\")\n",
    "    frames = []\n",
    "    # Function to update the plot\n",
    "    def update(idx):\n",
    "        img.set_data(inverted[idx])\n",
    "        \n",
    "        hline_label.set_ydata([labels[idx]])\n",
    "        hline_prediction.set_ydata([prediction[idx]])\n",
    "        \n",
    "        ax.set_title(f'Inverted View: {idx}')\n",
    "        \n",
    "        return img, hline_label, hline_prediction\n",
    "        \n",
    "    # Create the animation using FuncAnimation\n",
    "    ani = animation.FuncAnimation(fig, update, frames=range(inverted.shape[0]), blit=True, repeat=False)\n",
    "\n",
    "    # Save the animation as an MP4 file\n",
    "    print(\"Saving MP4...\")\n",
    "    FFwriter = animation.FFMpegWriter(fps=30, extra_args=[\"-vcodec\", \"libx264\"])\n",
    "    ani.save(mp4_save_name, writer=FFwriter)\n",
    "\n",
    "    plt.close(fig)"
   ]
  }
 ],
 "metadata": {
  "kernelspec": {
   "display_name": ".venv",
   "language": "python",
   "name": "python3"
  },
  "language_info": {
   "codemirror_mode": {
    "name": "ipython",
    "version": 3
   },
   "file_extension": ".py",
   "mimetype": "text/x-python",
   "name": "python",
   "nbconvert_exporter": "python",
   "pygments_lexer": "ipython3",
   "version": "3.11.7"
  }
 },
 "nbformat": 4,
 "nbformat_minor": 4
}
