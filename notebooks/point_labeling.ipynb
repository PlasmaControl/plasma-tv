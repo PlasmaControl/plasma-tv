{
 "cells": [
  {
   "cell_type": "code",
   "execution_count": null,
   "metadata": {},
   "outputs": [],
   "source": [
    "import numpy as np\n",
    "import matplotlib.pyplot as plt\n",
    "from pathlib import Path\n",
    "\n",
    "from src.data.file_utils import GetTV, _find_index"
   ]
  },
  {
   "cell_type": "markdown",
   "metadata": {},
   "source": [
    "## Manual Point Labeling"
   ]
  },
  {
   "cell_type": "code",
   "execution_count": null,
   "metadata": {},
   "outputs": [],
   "source": [
    "from PIL import Image, ImageTk\n",
    "from tkinter import Tk, Label\n",
    "\n",
    "from src.external.labeling import manual_labeling as ml"
   ]
  },
  {
   "cell_type": "code",
   "execution_count": null,
   "metadata": {},
   "outputs": [],
   "source": [
    "file_idx = 2  # Index of the file to be loaded\n",
    "root = Tk()\n",
    "tv_image_path = Path(\"tv_images/l-mode\")\n",
    "output_path = Path(\"../outputs/manual_labeled_points\")\n",
    "\n",
    "tv = GetTV(tv_image_path)\n",
    "files = tv.list_files()\n",
    "file = files[file_idx]\n",
    "inverted = tv.load(file, \"inverted\")\n",
    "out_file = output_path / Path(file.stem).with_suffix(\".csv\")\n",
    "photos = (255 * (inverted - np.min(inverted)) / (np.max(inverted) - np.min(inverted))).astype(\"uint8\")"
   ]
  },
  {
   "cell_type": "code",
   "execution_count": null,
   "metadata": {},
   "outputs": [],
   "source": [
    "current_photo_index = 0\n",
    "photo = ImageTk.PhotoImage(image=Image.fromarray(photos[current_photo_index]))\n",
    "photo = photo._PhotoImage__photo.zoom(4)\n",
    "w = Label(root, image=photo)\n",
    "w.pack()\n",
    "\n",
    "coordinates = []\n",
    "\n",
    "root.bind(\"<Right>\", ml.next_photo)\n",
    "root.bind(\"<Left>\", ml.previous_photo)\n",
    "w.bind(\"<Button-1>\", ml.callback)\n",
    "\n",
    "root.mainloop()"
   ]
  },
  {
   "cell_type": "markdown",
   "metadata": {},
   "source": [
    "## Automatic Point Labeling"
   ]
  },
  {
   "cell_type": "code",
   "execution_count": null,
   "metadata": {},
   "outputs": [],
   "source": [
    "from src.external.labeling import auto_labeling as al"
   ]
  },
  {
   "cell_type": "markdown",
   "metadata": {},
   "source": [
    "### Single Shot"
   ]
  },
  {
   "cell_type": "code",
   "execution_count": null,
   "metadata": {},
   "outputs": [],
   "source": [
    "file_idx = 0\n",
    "tv = GetTV('tv_images/l-mode')\n",
    "files = tv.list_files()\n",
    "[inverted,radii,elevation,frames,times,vid_frames,vid_times,vid] = tv.load_all(files[file_idx])"
   ]
  },
  {
   "cell_type": "code",
   "execution_count": null,
   "metadata": {},
   "outputs": [],
   "source": [
    "# initialize values\n",
    "x_0 = np.array([1.30,-1.05]) # x-point location\n",
    "l_0 = np.array([1.05,-1.21]) # left radiation point location\n",
    "r_0 = np.array([1.48,-1.25]) # right radiation point location\n",
    "\n",
    "centers_0 = np.array([al.convert_center(radii,elevation,x_0),\n",
    "                      al.convert_center(radii,elevation,l_0),\n",
    "                      al.convert_center(radii,elevation,r_0)])\n",
    "\n",
    "radius = 6 # for some reason, 6 just works the best while every other value doesn't work\n",
    "threshold = 0.05 # intensity value threshold for points to update their position\n",
    "merge_threshold = 20 # merge threshold for radiation point and X-point, should be on factor of 2X radius\n",
    "distance_threshold = 10 # distance from emission line for corner to be considered a radiation point"
   ]
  },
  {
   "cell_type": "markdown",
   "metadata": {},
   "source": [
    "### Iterate Across All Shots"
   ]
  },
  {
   "cell_type": "code",
   "execution_count": null,
   "metadata": {},
   "outputs": [],
   "source": [
    "file_idx = 0\n",
    "tv = GetTV('tv_images/l-mode')\n",
    "files = tv.list_files()\n",
    "[inverted,radii,elevation,frames,times,vid_frames,vid_times,vid] = tv.load_all(files[file_idx])"
   ]
  },
  {
   "cell_type": "code",
   "execution_count": null,
   "metadata": {},
   "outputs": [],
   "source": [
    "# initialize values\n",
    "x_0 = np.array([1.30,-1.05]) # x-point location\n",
    "l_0 = np.array([1.05,-1.21]) # left radiation point location\n",
    "r_0 = np.array([1.48,-1.25]) # right radiation point location\n",
    "\n",
    "centers_0 = np.array([al.convert_center(radii,elevation,x_0),\n",
    "                      al.convert_center(radii,elevation,l_0),\n",
    "                      al.convert_center(radii,elevation,r_0)])\n",
    "\n",
    "radius = 6 # for some reason, 6 just works the best while every other value doesn't work\n",
    "threshold = 0.05 # intensity value threshold for points to update their position\n",
    "merge_threshold = 20 # merge threshold for radiation point and X-point, should be on factor of 2X radius\n",
    "distance_threshold = 10 # distance from emission line for corner to be considered a radiation point"
   ]
  },
  {
   "cell_type": "markdown",
   "metadata": {},
   "source": [
    "## Semi-Supervised Point Labeling"
   ]
  }
 ],
 "metadata": {
  "language_info": {
   "name": "python"
  }
 },
 "nbformat": 4,
 "nbformat_minor": 2
}
