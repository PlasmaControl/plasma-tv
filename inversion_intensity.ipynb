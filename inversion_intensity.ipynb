{
 "cells": [
  {
   "cell_type": "markdown",
   "metadata": {},
   "source": [
    "# Inversion Intensity\n",
    "\n",
    "Tracks left/right radiation points and X-point, including brightness (intensity) for D-IIID TV images"
   ]
  },
  {
   "cell_type": "code",
   "execution_count": null,
   "metadata": {},
   "outputs": [],
   "source": [
    "import numpy as np\n",
    "from scipy.io import readsav\n",
    "import matplotlib.pyplot as plt\n",
    "import matplotlib.animation as animation\n",
    "import cv2\n",
    "from pathlib import Path"
   ]
  },
  {
   "cell_type": "markdown",
   "metadata": {},
   "source": [
    "### Data Loading"
   ]
  },
  {
   "cell_type": "code",
   "execution_count": null,
   "metadata": {},
   "outputs": [],
   "source": [
    "def _load_data(filename):\n",
    "    dat = readsav(filename)\n",
    "    emission = dat['emission_structure']\n",
    "    return emission[0]\n",
    "\n",
    "def _find_index(arr,val):\n",
    "    return np.argmin(abs(arr-val))"
   ]
  },
  {
   "cell_type": "code",
   "execution_count": null,
   "metadata": {},
   "outputs": [],
   "source": [
    "filepath = Path('tv_images')\n",
    "filename = 'emission_structure_pu_cam240perp_189101.sav'\n",
    "[inverted,radii,elevation,frames,times,vid_frames,vid_times,vid] = _load_data(filepath / filename)"
   ]
  },
  {
   "cell_type": "markdown",
   "metadata": {},
   "source": [
    "### Static Image With Corner Detection"
   ]
  },
  {
   "cell_type": "markdown",
   "metadata": {},
   "source": [
    "Inverted: R,Z Coordinate Array\n",
    "Radii/Elevation are redundant across times. Can just use ones from t=0."
   ]
  },
  {
   "cell_type": "code",
   "execution_count": null,
   "metadata": {},
   "outputs": [],
   "source": [
    "\n",
    "fid = 50\n",
    "tid = _find_index(vid_times,times[fid]) #find frame id for camera image with t=times[fid]\n",
    "find_x = inverted[fid]\n",
    "img = inverted[fid].copy()\n",
    "gray=(255-255*(img-np.min(img))/(np.max(img)-np.min(img))).astype('uint8')\n",
    "useHarrisDetector = False # False uses Shi-Tomasi Corner Detector\n",
    "corners = np.intp(cv2.goodFeaturesToTrack(gray,3,.5,10, useHarrisDetector=useHarrisDetector))\n",
    "x = radii[0][corners[:,0,0]]\n",
    "y = elevation[0][corners[:,0,1]]\n",
    "print(np.column_stack((x,y)))\n",
    "plt.pcolormesh(radii[fid],elevation[fid],img,shading='auto', cmap='gray')\n",
    "plt.scatter(x,y,color='red')\n",
    "plt.title(f\"Inverted with Radiation Points, Frame {fid}\")\n",
    "plt.show()"
   ]
  },
  {
   "cell_type": "markdown",
   "metadata": {},
   "source": [
    "### Dynamic Point Tracking"
   ]
  },
  {
   "cell_type": "code",
   "execution_count": null,
   "metadata": {},
   "outputs": [],
   "source": [
    "def get_avg_value(array):\n",
    "    return np.sqrt(np.mean(np.square(array)))\n",
    "\n",
    "# converts from natural units to indices\n",
    "def convert_center(radii, elevation, value):\n",
    "    rad_idx = (np.abs(radii - value[0])).argmin()\n",
    "    elev_idx = (np.abs(elevation - value[1])).argmin()\n",
    "    return rad_idx, elev_idx\n",
    "\n",
    "# distance from test point to line created by point_1 and point_2\n",
    "def get_dist_line(point_1, point_2, test_point):\n",
    "    top = np.abs((point_2[0]-point_1[0])*(point_2[1]-test_point[1])-(point_1[0]-test_point[0])*(point_2[1]-point_1[1]))\n",
    "    bottom = np.sqrt((point_2[0]-point_1[0])**2+(point_2[1]-point_1[1])**2)\n",
    "    return top / bottom"
   ]
  },
  {
   "cell_type": "code",
   "execution_count": null,
   "metadata": {},
   "outputs": [],
   "source": [
    "# boundary array for frame around center point\n",
    "def get_bounds(centers, dist, im_size):\n",
    "    \n",
    "    bounds = np.array([centers - dist, centers + dist])\n",
    "    \n",
    "    bounds[bounds < 0] = 0 # set negative bounds to 0\n",
    "    \n",
    "    new_vals = bounds.copy()\n",
    "    new_vals[new_vals > im_size[0]] = im_size[0]\n",
    "    bounds[:,:,0] = new_vals[:,:,0] # set x bounds within x frame\n",
    "    \n",
    "    new_vals = bounds.copy()\n",
    "    new_vals[new_vals > im_size[1]] = im_size[1]\n",
    "    bounds[:,:,1] = new_vals[:,:,1] # set y bounds within y frame\n",
    "    \n",
    "    return bounds\n",
    "\n",
    "# array of corners using Shi-Tomasi Corner Detector\n",
    "def get_corners(img):\n",
    "    \n",
    "    gray = (255-255*(img-np.min(img))/(np.max(img)-np.min(img))).astype('uint8')\n",
    "    corners = np.intp(cv2.goodFeaturesToTrack(gray,3,.5,10, useHarrisDetector=False))\n",
    "    x = corners[:,0,0]\n",
    "    y = corners[:,0,1]\n",
    "    \n",
    "    return np.column_stack((x,y))\n",
    "\n",
    "# array of corner pixel frame intensities\n",
    "def get_corner_values(img, corners, dist, im_size):\n",
    "    \n",
    "    bounds = get_bounds(corners, dist, im_size)\n",
    "    \n",
    "    avg_values = []\n",
    "    \n",
    "    for i in range(len(corners)):\n",
    "        temp_frame = img[bounds[0,i,1]:bounds[1,i,1],bounds[0,i,0]:bounds[1,i,0]]\n",
    "        avg_values.append(get_avg_value(temp_frame))\n",
    "    \n",
    "    return avg_values"
   ]
  },
  {
   "cell_type": "markdown",
   "metadata": {},
   "source": [
    "Finding and merging the most likely radiation points\n",
    "1. X-point is absolute\n",
    "1. Merge radiation points that are close together\n",
    "1. Provided that there also exists a corner that is close enough to the previous line formed by the x-point and radiation point, then replace radiation point with corner"
   ]
  },
  {
   "cell_type": "code",
   "execution_count": null,
   "metadata": {},
   "outputs": [],
   "source": [
    "# merges points that are close together and sets new radiation points to possible corners if they meet threshold criteria\n",
    "def merge_points(centers_old, centers_new, corners, avg_values, avg_values_corners, merge_threshold, distance_threshold):\n",
    "    \n",
    "    right_dist = []\n",
    "    left_dist = []\n",
    "    centers_new_update = centers_new.copy()\n",
    "    avg_values_update = avg_values.copy()\n",
    "    \n",
    "    for i in range(len(corners)):\n",
    "        right_dist.append(get_dist_line(centers_old[0],centers_old[1],corners[i]))\n",
    "        left_dist.append(get_dist_line(centers_old[0],centers_old[2],corners[i]))\n",
    "\n",
    "    l_x_dist = np.sqrt(np.sum(np.square(centers_new[0]-centers_new[1])))\n",
    "    r_x_dist = np.sqrt(np.sum(np.square(centers_new[0]-centers_new[2])))\n",
    "    \n",
    "    if (l_x_dist < merge_threshold) and (np.min(left_dist) < distance_threshold):\n",
    "        index = np.where(right_dist == np.min(left_dist))[0][0]\n",
    "        centers_new_update[1] = corners[index]\n",
    "        avg_values_update[1] = avg_values_corners[index]\n",
    "    \n",
    "    if (r_x_dist < merge_threshold) and (np.min(right_dist) < distance_threshold):\n",
    "        index = np.where(right_dist == np.min(right_dist))[0][0]\n",
    "        centers_new_update[2] = corners[index]\n",
    "        avg_values_update[2] = avg_values_corners[index]\n",
    "    \n",
    "    return centers_new_update, avg_values_update\n",
    "\n",
    "# array of values for x point and 2 radiation points\n",
    "def get_center_values(img, centers, dist, im_size, merge_threshold, distance_threshold):\n",
    "    \n",
    "    bounds = get_bounds(centers, dist, im_size)\n",
    "    \n",
    "    x_frame = img[bounds[0,0,1]:bounds[1,0,1],bounds[0,0,0]:bounds[1,0,0]]\n",
    "    l_frame = img[bounds[0,1,1]:bounds[1,1,1],bounds[0,1,0]:bounds[1,1,0]]\n",
    "    r_frame = img[bounds[0,2,1]:bounds[1,2,1],bounds[0,2,0]:bounds[1,2,0]]\n",
    "    \n",
    "    local_x_max = np.unravel_index(np.argmax(x_frame), x_frame.shape)\n",
    "    local_l_max = np.unravel_index(np.argmax(l_frame), l_frame.shape)\n",
    "    local_r_max = np.unravel_index(np.argmax(r_frame), r_frame.shape)\n",
    "    \n",
    "    global_x_max = np.flip(np.ravel(local_x_max)) + [bounds[0,0,0], bounds[0,0,1]]\n",
    "    global_l_max = np.flip(np.ravel(local_l_max)) + [bounds[0,1,0], bounds[0,1,1]]\n",
    "    global_r_max = np.flip(np.ravel(local_r_max)) + [bounds[0,2,0], bounds[0,2,1]]\n",
    "    \n",
    "    centers_update = np.array([global_x_max, global_l_max, global_r_max])\n",
    "    avg_values = np.array([get_avg_value(x_frame), get_avg_value(l_frame), get_avg_value(r_frame)])\n",
    "    \n",
    "    corners = get_corners(img)\n",
    "    avg_values_corners = get_corner_values(img, corners, dist, im_size)\n",
    "    new_centers, new_avg_vals = merge_points(centers, centers_update, corners, avg_values, avg_values_corners, merge_threshold, distance_threshold)\n",
    "        \n",
    "    return new_centers, new_avg_vals\n",
    "\n",
    "# update frame with new centers if avg value is greater than threshold\n",
    "def update_frame(img, centers, dist, im_size, intensity_threshold, merge_threshold, distance_threshold):\n",
    "    \n",
    "    new_centers, new_avg_vals = get_center_values(img, centers, dist, im_size, merge_threshold, distance_threshold)\n",
    "    \n",
    "    for i in range(3):\n",
    "        if new_avg_vals[i] > intensity_threshold:\n",
    "            centers[i] = new_centers[i]\n",
    "    \n",
    "    return centers, new_avg_vals\n",
    "\n",
    "# main function\n",
    "def main(input_array, centers_ini, dist, im_size, intensity_threshold, merge_threshold, distance_threshold, num_iter):\n",
    "    centers = centers_ini.copy()\n",
    "    centers_array = []\n",
    "    avg_values_array = []\n",
    "    \n",
    "    for i in range(num_iter):\n",
    "        img = input_array[i].copy()\n",
    "        centers_update, avg_values_temp = update_frame(img, centers, dist, im_size, intensity_threshold, merge_threshold, distance_threshold)\n",
    "        centers_array.append(centers_update)\n",
    "        avg_values_array.append(avg_values_temp)\n",
    "        centers = centers_update.copy()\n",
    "    \n",
    "    return np.array(centers_array), np.array(avg_values_array)"
   ]
  },
  {
   "cell_type": "code",
   "execution_count": null,
   "metadata": {},
   "outputs": [],
   "source": [
    "# initialize values\n",
    "x_0 = np.array([1.35,-1.05]) # x-point location\n",
    "l_0 = np.array([1.0,-1.25]) # left radiation point location\n",
    "r_0 = np.array([1.5,-1.25]) # right radiation point location\n",
    "\n",
    "centers_0 = np.array([convert_center(radii,elevation,x_0),\n",
    "                      convert_center(radii,elevation,l_0),\n",
    "                      convert_center(radii,elevation,r_0)])\n",
    "\n",
    "radius = 6 # for some reason, 6 just works the best while every other value doesn't work\n",
    "threshold = 0.05 # intensity value threshold for points to update their position\n",
    "merge_threshold = 20 # merge threshold for radiation point and X-point, should be on factor of 2X radius\n",
    "distance_threshold = 10 # distance from emission line for corner to be considered a radiation point\n",
    "\n",
    "# run main function\n",
    "centers_array, avg_values_array = main(inverted, centers_0, radius, img.shape, threshold, merge_threshold, distance_threshold, len(inverted))"
   ]
  },
  {
   "cell_type": "markdown",
   "metadata": {},
   "source": [
    "### Results"
   ]
  },
  {
   "cell_type": "code",
   "execution_count": null,
   "metadata": {},
   "outputs": [],
   "source": [
    "# plot intensity values over each frame\n",
    "plt.plot(avg_values_array)\n",
    "plt.legend(['x','l','r'])\n",
    "plt.title(filename)\n",
    "plt.show()"
   ]
  },
  {
   "cell_type": "markdown",
   "metadata": {},
   "source": [
    "Circle bounds around point is a bit misleading, it's actually a square. But differences shouldn't be too big.\n",
    "\n",
    "Intensity is the tracked points. Corners is any corners that gets noticed by detector."
   ]
  },
  {
   "cell_type": "code",
   "execution_count": null,
   "metadata": {},
   "outputs": [],
   "source": [
    "# sample plot of calculated centers\n",
    "idx = 1\n",
    "x, y = zip(*centers_array[idx])\n",
    "img = inverted[idx].copy()\n",
    "\n",
    "scaling = radii[0,1]-radii[0,0]\n",
    "\n",
    "fig, axs = plt.subplots()\n",
    "circ_0 = plt.Circle((radii[0,x[0]], elevation[0,y[0]]), scaling*radius, color='tab:red', fill=False)\n",
    "circ_1 = plt.Circle((radii[0,x[1]], elevation[0,y[1]]), scaling*radius, color='tab:red', fill=False)\n",
    "circ_2 = plt.Circle((radii[0,x[2]], elevation[0,y[2]]), scaling*radius, color='tab:red', fill=False)\n",
    "line1x = [radii[0,x[0]],radii[0,x[1]]]\n",
    "line1y = [elevation[0,y[0]],elevation[0,y[1]]]\n",
    "line2x = [radii[0,x[0]],radii[0,x[2]]]\n",
    "line2y = [elevation[0,y[0]],elevation[0,y[2]]]\n",
    "\n",
    "axs.pcolormesh(radii[0],elevation[0],img,shading='auto', cmap='gray')\n",
    "axs.plot(line1x,line1y,color='tab:blue')\n",
    "axs.plot(line2x,line2y,color='tab:blue')\n",
    "axs.scatter(radii[0,x],elevation[0,y],s=5,c='tab:orange',label='intensity')\n",
    "axs.add_artist(circ_0)\n",
    "axs.add_artist(circ_1)\n",
    "axs.add_artist(circ_2)\n",
    "\n",
    "gray=(255-255*(img-np.min(img))/(np.max(img)-np.min(img))).astype('uint8')\n",
    "corners = np.intp(cv2.goodFeaturesToTrack(gray,3,.5,10, useHarrisDetector=useHarrisDetector))\n",
    "x1 = radii[idx][corners[:,0,0]]\n",
    "y1 = elevation[idx][corners[:,0,1]]\n",
    "axs.scatter(x1,y1,color='cyan',s=5,marker='x',label='corners')\n",
    "plt.suptitle(filename)\n",
    "plt.title(f'Time = {times[idx]-times[0]:.2f} ms')\n",
    "plt.legend()\n",
    "plt.show()"
   ]
  },
  {
   "cell_type": "code",
   "execution_count": null,
   "metadata": {},
   "outputs": [],
   "source": [
    "# generate video\n",
    "fig, axs = plt.subplots()\n",
    "\n",
    "def animate(idx):\n",
    "    x, y = zip(*centers_array[idx])\n",
    "    img = inverted[idx].copy()\n",
    "\n",
    "    circ_0 = plt.Circle((radii[0,x[0]], elevation[0,y[0]]), scaling*radius, color='tab:red', fill=False)\n",
    "    circ_1 = plt.Circle((radii[0,x[1]], elevation[0,y[1]]), scaling*radius, color='tab:red', fill=False)\n",
    "    circ_2 = plt.Circle((radii[0,x[2]], elevation[0,y[2]]), scaling*radius, color='tab:red', fill=False)\n",
    "    \n",
    "    line1x = [radii[0,x[0]],radii[0,x[1]]]\n",
    "    line1y = [elevation[0,y[0]],elevation[0,y[1]]]\n",
    "    line2x = [radii[0,x[0]],radii[0,x[2]]]\n",
    "    line2y = [elevation[0,y[0]],elevation[0,y[2]]]\n",
    "\n",
    "    axs.clear()\n",
    "    \n",
    "    axs.pcolormesh(radii[0],elevation[0],img,shading='auto', cmap='gray')\n",
    "    axs.plot(line1x,line1y,color='tab:blue')\n",
    "    axs.plot(line2x,line2y,color='tab:blue')\n",
    "    axs.scatter(radii[0,x],elevation[0,y],s=5,c='tab:orange',label='intensity')\n",
    "    axs.add_artist(circ_0)\n",
    "    axs.add_artist(circ_1)\n",
    "    axs.add_artist(circ_2)\n",
    "    \n",
    "    plt.xlabel('Radius (m)')\n",
    "    plt.ylabel('Elevation (m)')\n",
    "    plt.suptitle(filename)\n",
    "    plt.title(f'Time = {times[idx]-times[0]:.2f} ms')\n",
    "\n",
    "writervideo = animation.FFMpegWriter(fps=15) \n",
    "ani = animation.FuncAnimation(fig, animate, frames=len(centers_array))\n",
    "ani.save('animation.mp4', writer=writervideo)\n",
    "plt.close()"
   ]
  },
  {
   "cell_type": "code",
   "execution_count": null,
   "metadata": {},
   "outputs": [],
   "source": [
    "# save arrays to file\n"
   ]
  }
 ],
 "metadata": {
  "kernelspec": {
   "display_name": "torch2env",
   "language": "python",
   "name": "python3"
  },
  "language_info": {
   "codemirror_mode": {
    "name": "ipython",
    "version": 3
   },
   "file_extension": ".py",
   "mimetype": "text/x-python",
   "name": "python",
   "nbconvert_exporter": "python",
   "pygments_lexer": "ipython3",
   "version": "3.11.5"
  }
 },
 "nbformat": 4,
 "nbformat_minor": 2
}
