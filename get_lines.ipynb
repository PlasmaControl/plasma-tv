{
 "cells": [
  {
   "cell_type": "markdown",
   "id": "0",
   "metadata": {},
   "source": [
    "# Get Lines from TV Vid\n",
    "\n",
    "Since synthetic images of rings from different angles can be generated, and certain aspects of the tokamak exhibits ring-like behavior, an assumption can be made that there can be a direct mapping between a processed real image and a synthetic image via ring creation. Different methods are employed here in order to attempt an extraction of the ring-like structures from bright emission areas."
   ]
  },
  {
   "cell_type": "code",
   "execution_count": null,
   "id": "1",
   "metadata": {},
   "outputs": [],
   "source": [
    "import numpy as np\n",
    "import matplotlib.pyplot as plt\n",
    "import matplotlib.animation as animation\n",
    "\n",
    "from pathlib import Path\n",
    "from tqdm.notebook import tqdm\n",
    "\n",
    "from utils.get_file import GetTV\n",
    "from utils.processing import AdvancedProcessing, HomomorphicFilter"
   ]
  },
  {
   "cell_type": "code",
   "execution_count": null,
   "id": "2",
   "metadata": {},
   "outputs": [],
   "source": [
    "tv = GetTV()\n",
    "files = tv.list_files()\n",
    "file = files[0]\n",
    "vid = tv.load(file, 'vid')"
   ]
  },
  {
   "cell_type": "code",
   "execution_count": null,
   "id": "3",
   "metadata": {},
   "outputs": [],
   "source": [
    "# single image plotting\n",
    "idx = 245\n",
    "kernel_size = 5\n",
    "sigma = 1\n",
    "threshold = 3\n",
    "erode_kernel = 5\n",
    "aspect_num = 1/2\n",
    "\n",
    "process = AdvancedProcessing()\n",
    "homofilt = HomomorphicFilter()\n",
    "\n",
    "img = vid[idx]\n",
    "probability = process.process_image(img)\n",
    "# probability = homofilt.filter(img, (.9,50))\n",
    "\n",
    "fig, ax = plt.subplots(2)\n",
    "ax[0].imshow(probability, cmap='gray')\n",
    "ax[1].imshow(img, cmap='gray')\n",
    "x_left, x_right = ax[0].get_xlim()\n",
    "y_low, y_high = ax[0].get_ylim()\n",
    "ax[0].set_aspect(abs((x_right-x_left)/(y_low-y_high))*aspect_num)\n",
    "ax[1].set_aspect(abs((x_right-x_left)/(y_low-y_high))*aspect_num)\n",
    "ax[0].set_title(f'2X BR + 2DMFLD, Frame {idx}')\n",
    "ax[1].set_title(f'Original, Frame {idx}')\n",
    "plt.tight_layout()\n",
    "plt.show()"
   ]
  },
  {
   "cell_type": "code",
   "execution_count": null,
   "id": "4",
   "metadata": {},
   "outputs": [],
   "source": [
    "# animated plotting\n",
    "savepath = Path('process_videos') / f'{filename}_inversion.mp4'\n",
    "\n",
    "kernel_size = 5\n",
    "sigma = 1\n",
    "threshold = 4\n",
    "erode_kernel = 4\n",
    "aspect_num = 1/2\n",
    "\n",
    "fig, ax = plt.subplots(2)\n",
    "top = ax[0].imshow(probability, cmap='gray')\n",
    "bot = ax[1].imshow(img8, cmap='gray')\n",
    "title1 = ax[0].set_title(f'2X BR + 2DMFLD, Frame {0}')\n",
    "title2 = ax[1].set_title(f'Original, Frame {0}')\n",
    "\n",
    "x_left, x_right = ax[0].get_xlim()\n",
    "y_low, y_high = ax[0].get_ylim()\n",
    "ax[0].set_aspect(abs((x_right-x_left)/(y_low-y_high))*aspect_num)\n",
    "ax[1].set_aspect(abs((x_right-x_left)/(y_low-y_high))*aspect_num)\n",
    "\n",
    "plt.tight_layout()\n",
    "\n",
    "def animate(i):\n",
    "    img = np.sqrt(vid[i]).copy() # [25:250,250:700]\n",
    "    ratio = np.amax(img) / 255\n",
    "    img8 = (img/ratio).astype('uint8')\n",
    "    img8 = img8[0:240, 240:720]\n",
    "    probability = process_image(img8, kernel_size, sigma, threshold, erode_kernel)\n",
    "    top.set_array(probability)\n",
    "    bot.set_array(img8)\n",
    "    title1.set_text(f'2X BR + 2DMFLD, Frame {i}')\n",
    "    title2.set_text(f'Original, Frame {i}')\n",
    "    return top, bot, title1, title2\n",
    "    \n",
    "writervideo = animation.FFMpegWriter(fps=30) \n",
    "ani = animation.FuncAnimation(fig, animate, frames=tqdm(range(len(vid))), blit=True)\n",
    "ani.save(savepath, writer=writervideo)\n",
    "plt.close()"
   ]
  }
 ],
 "metadata": {
  "kernelspec": {
   "display_name": "Python 3",
   "language": "python",
   "name": "python3"
  },
  "language_info": {
   "codemirror_mode": {
    "name": "ipython",
    "version": 3
   },
   "file_extension": ".py",
   "mimetype": "text/x-python",
   "name": "python",
   "nbconvert_exporter": "python",
   "pygments_lexer": "ipython3",
   "version": "3.11.7"
  }
 },
 "nbformat": 4,
 "nbformat_minor": 5
}
