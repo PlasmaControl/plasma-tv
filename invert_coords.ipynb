{
 "cells": [
  {
   "cell_type": "code",
   "execution_count": null,
   "metadata": {},
   "outputs": [],
   "source": [
    "import numpy as np\n",
    "from findpeaks import findpeaks"
   ]
  },
  {
   "cell_type": "code",
   "execution_count": null,
   "metadata": {},
   "outputs": [],
   "source": [
    "import numpy as np\n",
    "from scipy.io import readsav\n",
    "import matplotlib.pyplot as plt\n",
    "import cv2\n",
    "from pathlib import Path\n",
    "from tempfile import TemporaryFile\n",
    "\n",
    "from matplotlib.animation import FuncAnimation\n",
    "from matplotlib.widgets import Slider\n",
    "import imageio"
   ]
  },
  {
   "cell_type": "code",
   "execution_count": null,
   "metadata": {},
   "outputs": [],
   "source": [
    "def _load_data(filename):\n",
    "    dat = readsav(filename)\n",
    "    emission = dat['emission_structure']\n",
    "    return emission[0]\n",
    "\n",
    "def _find_index(arr,val):\n",
    "    return np.argmin(abs(arr-val))"
   ]
  },
  {
   "cell_type": "code",
   "execution_count": null,
   "metadata": {},
   "outputs": [],
   "source": [
    "def norm(data):\n",
    "    mn = data.mean()\n",
    "    std = data.std()\n",
    "    return((data-mn)/std)\n",
    "\n",
    "def rescale(data):\n",
    "    return (data-data.min())/(data.max()-data.min())\n",
    "\n",
    "def quantfilt(src,thr=0.9):\n",
    "    filt = np.quantile(src,thr,axis=0)\n",
    "    out = np.where(src<filt,0,src)\n",
    "    return out\n",
    "\n",
    "# gaussian filtering\n",
    "def gaussblr(src,filt=(31, 3)):\n",
    "    src = (rescale(src)*255).astype('uint8')\n",
    "    out = cv2.GaussianBlur(src,filt,0)\n",
    "    return rescale(out)\n",
    "\n",
    "# mean filtering\n",
    "def meansub(src):\n",
    "    mn = np.mean(src,axis=1)[:,np.newaxis]\n",
    "    out = np.absolute(src - mn)\n",
    "    return rescale(out)\n",
    "\n",
    "# morphological filtering\n",
    "def morph(src):\n",
    "    src = (rescale(src)*255).astype('uint8')\n",
    "    se1 = cv2.getStructuringElement(cv2.MORPH_RECT, (4,4))\n",
    "    se2 = cv2.getStructuringElement(cv2.MORPH_RECT, (3,1))\n",
    "    mask = cv2.morphologyEx(src, cv2.MORPH_CLOSE, se1)\n",
    "    mask = cv2.morphologyEx(mask, cv2.MORPH_OPEN, se2)\n",
    "    return rescale(mask)"
   ]
  },
  {
   "cell_type": "code",
   "execution_count": null,
   "metadata": {},
   "outputs": [],
   "source": [
    "[inverted,radii,elevation,frames,times,vid_frames,vid_times,vid] = _load_data('emission_structure_pu_cam240perp_185821.sav')"
   ]
  },
  {
   "cell_type": "markdown",
   "metadata": {},
   "source": [
    "200 - points above\n",
    "210 - 2 points"
   ]
  },
  {
   "cell_type": "code",
   "execution_count": null,
   "metadata": {},
   "outputs": [],
   "source": [
    "fid = 131\n",
    "tid = _find_index(vid_times,times[fid]) #find frame id for camera image with t=times[fid]\n",
    "find_x = inverted[fid]"
   ]
  },
  {
   "cell_type": "code",
   "execution_count": null,
   "metadata": {},
   "outputs": [],
   "source": [
    "img = inverted[fid].copy()\n",
    "gray=(255-255*(img-np.min(img))/(np.max(img)-np.min(img))).astype('uint8')\n",
    "useHarrisDetector = False # False uses Shi-Tomasi Corner Detector\n",
    "corners = np.intp(cv2.goodFeaturesToTrack(gray,3,.5,10, useHarrisDetector=useHarrisDetector))\n",
    "x = radii[fid][corners[:,0,0]]\n",
    "y = elevation[fid][corners[:,0,1]]\n",
    "print(np.column_stack((x,y)))\n",
    "# plt.imshow(img)\n",
    "plt.pcolormesh(radii[fid],elevation[fid],img,shading='auto', cmap='gray')\n",
    "plt.scatter(x,y,color='red')\n",
    "plt.title(f\"Inverted with Radiation Points, Frame {fid}\")\n",
    "plt.show()"
   ]
  },
  {
   "cell_type": "code",
   "execution_count": null,
   "metadata": {},
   "outputs": [],
   "source": [
    "def get_point(img, radii, elevation):\n",
    "    gray=(255-255*(img-np.min(img))/(np.max(img)-np.min(img))).astype('uint8')\n",
    "    corners = cv2.goodFeaturesToTrack(gray,3,0.5,10, useHarrisDetector=False)\n",
    "    corners = np.intp(corners)\n",
    "    x = radii[corners[:,0,0]]\n",
    "    y = elevation[corners[:,0,1]]\n",
    "    return np.column_stack((x, y))\n",
    "\n",
    "def check_points(points):\n",
    "    return_points = []\n",
    "    \n",
    "    if (points.shape[0] == 1) or (points.shape[0] == 2):\n",
    "        return points\n",
    "        \n",
    "    if points.shape[0] == 3:\n",
    "        x_sort = sorted(points, key=lambda point: point[0])\n",
    "        if x_sort[0][1] < x_sort[1][1]:\n",
    "            return_points.append(x_sort[0])\n",
    "        if x_sort[2][1] < x_sort[1][1]:\n",
    "            return_points.append(x_sort[2])\n",
    "        return_points.append(x_sort[1])\n",
    "    \n",
    "    return return_points\n",
    "\n",
    "def process_points(inverted, radii, elevation):\n",
    "    points = []\n",
    "    for fid in range(inverted.shape[0]):\n",
    "        temp_points = get_point(inverted[fid], radii[fid], elevation[fid])\n",
    "        temp_points = check_points(temp_points)\n",
    "        # temp_points = sorted(temp_points, key=lambda point: point[0])\n",
    "        points.append(temp_points)\n",
    "        \n",
    "    return points\n",
    "        "
   ]
  },
  {
   "cell_type": "code",
   "execution_count": null,
   "metadata": {},
   "outputs": [],
   "source": [
    "potential_points = process_points(inverted, radii, elevation)"
   ]
  },
  {
   "cell_type": "code",
   "execution_count": null,
   "metadata": {},
   "outputs": [],
   "source": [
    "color_dict = {0:'red', 1:'blue', 2:'brown', 3:'yellow', 4:'orange', 5:'purple', 6:'pink'}\n",
    "\n",
    "def update_image(img, idx):\n",
    "    plt.clf()\n",
    "    img = inverted[idx].copy()\n",
    "    x_point,y_point = zip(*potential_points[idx])\n",
    "    point_color = [color_dict[i] for i in range(len(potential_points[idx]))]\n",
    "    point_label = [i for i in range(len(potential_points[idx]))]\n",
    "    plt.pcolormesh(radii[idx],elevation[idx],img,shading='auto')\n",
    "    plt.scatter(x_point,y_point,color=point_color,label=point_label)\n",
    "    \n",
    "    markers = [plt.Line2D([0,0],[0,0],color=color, marker='o', linestyle='') for color in point_color]\n",
    "    plt.legend(markers, point_label, numpoints=1)\n",
    "    plt.title(f'Frame {idx}')\n",
    "    plt.show()"
   ]
  },
  {
   "cell_type": "code",
   "execution_count": null,
   "metadata": {},
   "outputs": [],
   "source": [
    "update_image(inverted, 201)"
   ]
  },
  {
   "cell_type": "code",
   "execution_count": null,
   "metadata": {},
   "outputs": [],
   "source": [
    "path = Path('output_images')\n",
    "for fid in range(times.size):\n",
    "    new_path = path / f'{fid}.png'\n",
    "    plt.pcolormesh(radii[fid],elevation[fid],inverted[fid],shading='auto')\n",
    "    # plt.scatter(x_point[fid,0],x_point[fid,1],color='red')\n",
    "    plt.savefig(new_path,bbox_inches='tight')"
   ]
  },
  {
   "cell_type": "code",
   "execution_count": null,
   "metadata": {},
   "outputs": [],
   "source": []
  }
 ],
 "metadata": {
  "kernelspec": {
   "display_name": "torch2env",
   "language": "python",
   "name": "python3"
  },
  "language_info": {
   "codemirror_mode": {
    "name": "ipython",
    "version": 3
   },
   "file_extension": ".py",
   "mimetype": "text/x-python",
   "name": "python",
   "nbconvert_exporter": "python",
   "pygments_lexer": "ipython3",
   "version": "3.11.4"
  },
  "orig_nbformat": 4
 },
 "nbformat": 4,
 "nbformat_minor": 2
}
