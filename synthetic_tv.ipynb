{
 "cells": [
  {
   "cell_type": "markdown",
   "metadata": {},
   "source": [
    "# Synthetic TV Image Generation"
   ]
  },
  {
   "cell_type": "markdown",
   "metadata": {},
   "source": [
    "## Synthetic Raw Comparisons\n",
    "\n",
    "Compare visual similaries between real and synthetic ring generator"
   ]
  },
  {
   "cell_type": "code",
   "execution_count": null,
   "metadata": {},
   "outputs": [],
   "source": [
    "import numpy as np\n",
    "import matplotlib.pyplot as plt\n",
    "import matplotlib.animation as animation\n",
    "from pathlib import Path\n",
    "import h5py\n",
    "import pickle\n",
    "from tqdm.notebook import tqdm\n",
    "import cv2\n",
    "# import diplib as dip\n",
    "import torch\n",
    "import torch.nn as nn\n",
    "import torchvision.transforms as T\n",
    "from torch.utils.data import Dataset, DataLoader, random_split"
   ]
  },
  {
   "cell_type": "code",
   "execution_count": null,
   "metadata": {},
   "outputs": [],
   "source": [
    "file_name = 'cam_geo/s_outs_v3_limited.h5'\n",
    "with h5py.File(file_name, 'r') as f:\n",
    "    print(list(f.keys()))\n",
    "    synthetic_images = f['image'][:]\n",
    "    \n",
    "# file_name_2 = 'outputs/hdf5/x_outer_radiation.hdf5'\n",
    "file_name_2 = 'outputs/hdf5/x_outer_radiation.hdf5'\n",
    "with h5py.File(file_name_2, 'r') as f:\n",
    "    print(list(f.keys()))\n",
    "    points = f['points'][:]\n",
    "    tv_images = f['tv_images'][:]\n",
    "    \n",
    "tv_images = tv_images / 255\n",
    "for i in range(len(tv_images)):\n",
    "    tv_images[i] = cv2.flip(tv_images[i], 0)"
   ]
  },
  {
   "cell_type": "code",
   "execution_count": null,
   "metadata": {},
   "outputs": [],
   "source": [
    "idx = 1840\n",
    "# TV Images\n",
    "plt.subplot(2, 2, 1)\n",
    "plt.imshow(tv_images[idx], origin='lower')\n",
    "plt.colorbar(orientation='horizontal', ax=plt.gca())\n",
    "plt.title('Real Image')\n",
    "\n",
    "# Synthetic Images\n",
    "plt.subplot(2, 2, 2)\n",
    "plt.imshow(synthetic_images[idx], origin='lower')\n",
    "plt.colorbar(orientation='horizontal', ax=plt.gca())\n",
    "plt.title(f'Synthetic Images: idx = {idx}')\n",
    "\n",
    "plt.tight_layout()\n",
    "plt.show()"
   ]
  },
  {
   "cell_type": "code",
   "execution_count": null,
   "metadata": {},
   "outputs": [],
   "source": [
    "kernel_size = 5\n",
    "sigma = 0.1\n",
    "threshold = .1\n",
    "erode_kernel = 1\n",
    "\n",
    "process_tv_image =  process_image(tv_images[idx], kernel_size, sigma, threshold, erode_kernel)\n",
    "plt.imshow(process_tv_image, origin='lower')\n",
    "plt.show()\n",
    "test = (tv_images - synthetic_images[idx]) * np.array(synthetic_images[idx])\n",
    "plt.imshow(test[idx], origin='lower')\n",
    "plt.title('Multiplication of Synthetic and Real Images for idx = {idx}')\n",
    "plt.show()\n",
    "test_scalar = np.sqrt(np.sum(test**2, axis=(1,2)))\n",
    "print(test_scalar)\n",
    "plt.plot(test_scalar)\n",
    "plt.axvline(x=idx, color='red', linestyle='--')\n",
    "plt.title('Most likely indicies (by RMS)')\n",
    "print(np.argmax(test_scalar))\n",
    "print(test_scalar[idx])"
   ]
  },
  {
   "cell_type": "markdown",
   "metadata": {},
   "source": [
    "## Inverted to Synthetic\n",
    "\n",
    "Samples each point from the an inverted frame and generating a ring using cam_geo, attempting to recreate TangTV vid"
   ]
  },
  {
   "cell_type": "code",
   "execution_count": null,
   "metadata": {},
   "outputs": [],
   "source": [
    "import numpy as np\n",
    "import matplotlib.pyplot as plt\n",
    "import cv2\n",
    "\n",
    "import cam_geo.fake_camera_raw_lite as cg\n",
    "from utils.get_file import GetTV"
   ]
  },
  {
   "cell_type": "code",
   "execution_count": null,
   "metadata": {},
   "outputs": [],
   "source": [
    "tv = GetTV('./tv_images/l-mode')\n",
    "files = tv.list_files()\n",
    "for idx, file in enumerate(files):\n",
    "    print(idx,\"|\", file)"
   ]
  },
  {
   "cell_type": "code",
   "execution_count": null,
   "metadata": {},
   "outputs": [],
   "source": [
    "file_idx = 5\n",
    "idx = 110\n",
    "\n",
    "inverted = tv.load(files[file_idx], 'inverted')[idx]\n",
    "frame = tv.load(files[file_idx], 'frames')[idx]\n",
    "vid = tv.load(files[file_idx], 'vid')[int(frame)]\n",
    "r_arr = tv.load(files[0], 'radii')[0]\n",
    "z_arr = tv.load(files[0], 'elevation')[0]"
   ]
  },
  {
   "cell_type": "code",
   "execution_count": null,
   "metadata": {},
   "outputs": [],
   "source": [
    "threshold = 0.2\n",
    "\n",
    "r_coords, z_coords = np.where(inverted > threshold)\n",
    "r_loc = r_arr[r_coords]\n",
    "z_loc = z_arr[z_coords]\n",
    "intensity = inverted[r_coords, z_coords]\n",
    "test_arr = np.zeros_like(inverted)\n",
    "test_intensity = np.zeros_like(inverted)\n",
    "test_intensity[r_coords, z_coords] = intensity"
   ]
  },
  {
   "cell_type": "code",
   "execution_count": null,
   "metadata": {},
   "outputs": [],
   "source": [
    "mode = 'L-mode'\n",
    "skipnum = 5\n",
    "choose_idx = 20\n",
    "\n",
    "fig, ax = plt.subplots(1, 2)\n",
    "\n",
    "r_2 = [r_coords[i * skipnum] for i in range(len(r_coords) // skipnum)]\n",
    "z_2 = [z_coords[i * skipnum] for i in range(len(r_coords) // skipnum)]\n",
    "# Plot on the first subplot\n",
    "ax[0].imshow(inverted, origin='lower')\n",
    "ax[0].set_title('Inverted')\n",
    "# ax[0].scatter(z_2[choose_idx], r_2[choose_idx], s = 0.5, c = 'red')\n",
    "\n",
    "# Plot on the second subplot\n",
    "ax[1].imshow(inverted, origin='lower')\n",
    "ax[1].scatter(z_2,r_2, s = 1, c = 'red')\n",
    "ax[1].set_title('Sampled Points')\n",
    "\n",
    "plt.tight_layout()\n",
    "\n",
    "plt.show()\n"
   ]
  },
  {
   "cell_type": "code",
   "execution_count": null,
   "metadata": {},
   "outputs": [],
   "source": [
    "def make_samples(skipnum):\n",
    "    r_coords, z_coords = np.where(inverted > .1)\n",
    "    if skipnum == 0:\n",
    "        r_2 = [r_coords[i] for i in range(len(r_coords))]\n",
    "        z_2 = [z_coords[i] for i in range(len(r_coords))]\n",
    "    elif skipnum > 0:\n",
    "        r_2 = [r_coords[i * skipnum] for i in range(len(r_coords) // skipnum)]\n",
    "        z_2 = [z_coords[i * skipnum] for i in range(len(r_coords) // skipnum)]\n",
    "    else:\n",
    "        assert('skipnum must be a positive integer')\n",
    "        \n",
    "    r_loc = r_arr[r_2]\n",
    "    z_loc = z_arr[z_2]\n",
    "    intensity = inverted[r_coords, z_coords]\n",
    "    \n",
    "    R0s = np.array([r_loc])\n",
    "    Z0s = np.array([z_loc])\n",
    "    \n",
    "    nsample = Z0s.shape[0]\n",
    "    \n",
    "    A0s = np.array([intensity])\n",
    "    M0s = np.ones((nsample,len(intensity))) * 0.001\n",
    "    \n",
    "    return R0s, Z0s, A0s, M0s, nsample\n",
    "\n",
    "def make_setup(skip_num = 0):\n",
    "\n",
    "    save_name= 'synthetic_outers.h5'\n",
    "    chunk_size = 200\n",
    "    \n",
    "    Rinfo = {}\n",
    "    Rinfo['outfile'], Rinfo['chunk_size'] = save_name, chunk_size\n",
    "    Rinfo['R0s'], Rinfo['Z0s'], Rinfo['A0s'], Rinfo['M0s'], Rinfo['nsample'] = make_samples(skipnum)\n",
    "\n",
    "    if Rinfo['nsample'] < Rinfo['chunk_size']:\n",
    "        Rinfo['chunk_size'] = Rinfo['nsample']\n",
    "    \n",
    "    return Rinfo"
   ]
  },
  {
   "cell_type": "code",
   "execution_count": null,
   "metadata": {},
   "outputs": [],
   "source": [
    "# Main runs\n",
    "Rinfo  = make_setup()\n",
    "camgeo = cg._load_camera(camera_save='cam_geo/Camera_geo.pl',\n",
    "                        filename1='cam_geo/geom_240perp_unwarp_2022fwd.sav',\n",
    "                        filename2='cam_geo/cam240perp_geometry_2022.sav')\n",
    "\n",
    "# Output of rnd\n",
    "output = {};\n",
    "output['image_size']= camgeo['tar_x'].shape\n",
    "\n",
    "# Inversed image  dimension\n",
    "output['inver_size']= camgeo['inv_x'].shape    \n",
    "output['inver_R']   = np.asarray(camgeo['inv_x'])\n",
    "output['inver_Z']   = np.asarray(camgeo['inv_y'])"
   ]
  },
  {
   "cell_type": "code",
   "execution_count": null,
   "metadata": {},
   "outputs": [],
   "source": [
    "image = cg._integrate_image(Rinfo, 0, camgeo=camgeo)"
   ]
  },
  {
   "cell_type": "code",
   "execution_count": null,
   "metadata": {},
   "outputs": [],
   "source": [
    "fig, ax = plt.subplots(2,1)\n",
    "plt.suptitle(mode)\n",
    "ax[0].imshow(vid)\n",
    "ax[0].set_title('Real')\n",
    "ax[1].imshow(cv2.convertScaleAbs(np.flip(image * 255, 0), alpha= 1.5, beta = 2))\n",
    "ax[1].set_title('Synthetic')\n",
    "plt.tight_layout()\n",
    "plt.show()"
   ]
  }
 ],
 "metadata": {
  "kernelspec": {
   "display_name": "torch2env",
   "language": "python",
   "name": "python3"
  },
  "language_info": {
   "codemirror_mode": {
    "name": "ipython",
    "version": 3
   },
   "file_extension": ".py",
   "mimetype": "text/x-python",
   "name": "python",
   "nbconvert_exporter": "python",
   "pygments_lexer": "ipython3",
   "version": "3.11.5"
  }
 },
 "nbformat": 4,
 "nbformat_minor": 2
}
