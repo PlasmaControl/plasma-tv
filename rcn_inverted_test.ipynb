{
 "cells": [
  {
   "cell_type": "markdown",
   "id": "0",
   "metadata": {},
   "source": [
    "# RCN Inverted Recreation With Raw TangTV Input"
   ]
  },
  {
   "cell_type": "code",
   "execution_count": null,
   "id": "1",
   "metadata": {},
   "outputs": [],
   "source": [
    "import sys\n",
    "import numpy as np\n",
    "import scipy\n",
    "from scipy.io import readsav\n",
    "import matplotlib.pyplot as plt\n",
    "import matplotlib.gridspec as gridspec\n",
    "from skimage import measure\n",
    "import cv2\n",
    "from tqdm import tqdm\n",
    "import glob\n",
    "import time\n",
    "import pickle \n",
    "from sklearn import metrics\n",
    "import importlib\n",
    "\n",
    "import utils.rcn_functions as rcfun; importlib.reload(rcfun)\n",
    "from utils.get_file import GetTV, _find_index"
   ]
  },
  {
   "cell_type": "code",
   "execution_count": null,
   "id": "2",
   "metadata": {},
   "outputs": [],
   "source": [
    "tv = GetTV()\n",
    "files = tv.list_files()\n",
    "[inverted,radii,elevation,frames,times,vid_frames,vid_times,vid] = tv.load_all(files[11])"
   ]
  },
  {
   "cell_type": "code",
   "execution_count": null,
   "id": "3",
   "metadata": {},
   "outputs": [],
   "source": [
    "## Detect spots and save the plots for movie\n",
    "rnd=np.random.permutation(120)\n",
    "train_ind = rnd[:80]\n",
    "valid_ind = rnd[80:]\n",
    "\n",
    "X_train=[]\n",
    "y_train=[]\n",
    "for fid in tqdm(train_ind):    \n",
    "    tid = _find_index(vid_times,times[fid]) #find frame id for camera image with t=times[fid]\n",
    "    y_train.append(inverted[fid])\n",
    "    X_train.append(vid[fid])\n",
    "\n",
    "X_valid=[]\n",
    "y_valid=[]\n",
    "for fid in tqdm(valid_ind):    \n",
    "    tid = _find_index(vid_times,times[fid])\n",
    "    y_valid.append(inverted[fid])\n",
    "    X_valid.append(vid[fid])\n"
   ]
  },
  {
   "cell_type": "code",
   "execution_count": null,
   "id": "4",
   "metadata": {},
   "outputs": [],
   "source": [
    "res_size = [100, 50]\n",
    "K_in =   [1000, -1]  # -1 = Full connection\n",
    "K_rec = [10, 10]  # -1 = Full connection\n",
    "insca =  [0.5, 1]\n",
    "spra =   [0, 0.95]\n",
    "bisca =  [0, 0.5]\n",
    "leak =    [1, 0.1]\n",
    "regu =   [0.01, 0.01]\n",
    "nread = 201*201\n",
    "input_dim = [240*720,201*201]\n",
    "\n",
    "W_in = [None] * 2\n",
    "W_res = [None] * 2\n",
    "W_bi = [None] * 2\n",
    "W_out = [None] * 2\n",
    "x = [None] * 2\n",
    "o = [None] * 2"
   ]
  },
  {
   "cell_type": "code",
   "execution_count": null,
   "id": "5",
   "metadata": {},
   "outputs": [],
   "source": [
    "#### ----- Layer 1 ----- ####\n",
    "layer =0\n",
    "\n",
    "W_in[layer], W_res[layer], W_bi[layer] = rcfun.init_weights(input_dim[layer], res_size[layer], K_in[layer], K_rec[layer], insca[layer], spra[layer], bisca[layer])\n",
    "\n",
    "t1 = time.time()  # Just to have the time\n",
    "xTx = np.zeros((res_size[layer] + 1, res_size[layer] + 1), dtype='float64')\n",
    "xTy = np.zeros((res_size[layer] + 1, nread), dtype='float64')\n",
    "xlen = 0\n",
    "\n",
    "print('start')\n",
    "for u,d in tqdm(zip(X_train,y_train)):\n",
    "\n",
    "    u=np.reshape(u,(1,-1))\n",
    "    d=np.reshape(d,(1,-1))\n",
    "\n",
    "    x[layer] = rcfun.res_exe(W_in[layer], W_res[layer], W_bi[layer], leak[layer], u)\n",
    "    xlen += u.shape[0]\n",
    "    xTx += np.dot(x[layer].T, x[layer])\n",
    "    xTy += np.dot(x[layer].T, d)\n",
    "t2 = time.time()\n",
    "W_out[layer] = rcfun.res_train(xTx, xTy, xlen, regu[layer])\n",
    "\n",
    "t3 = time.time()\n",
    "print('Exec in %.2f - Train in %.2f sec.!' % (round(t2 - t1, 2), round(t3 - t2, 2)))\n",
    "dump_data={'W_in': W_in\n",
    "               ,'W_res': W_res\n",
    "               ,'W_bi': W_bi\n",
    "               ,'W_out': W_out\n",
    "               ,'leak': leak\n",
    "          }"
   ]
  },
  {
   "cell_type": "code",
   "execution_count": null,
   "id": "6",
   "metadata": {},
   "outputs": [],
   "source": [
    "for fid in tqdm(range(170)):\n",
    "    plt.clf()\n",
    "    u=vid[fid]\n",
    "    d=inverted[fid]\n",
    "    \n",
    "    u=np.reshape(u,(1,-1))\n",
    "    d=np.reshape(d,(1,-1))\n",
    "    \n",
    "    o= np.dot(rcfun.res_exe(W_in[0], W_res[0], W_bi[0], leak[0], u),W_out[0])\n",
    "    fig,axs=plt.subplots(ncols=3,nrows=1,figsize=(15,5))\n",
    "    axs[0].pcolormesh(np.flipud(np.reshape(u,(240,720))))\n",
    "    axs[1].pcolormesh(np.reshape(d,(201,201)))\n",
    "    axs[2].pcolormesh(np.reshape(o,(201,201)),vmin=np.min(d),vmax=np.max(d))\n",
    "    \n",
    "    if fid in train_ind:\n",
    "        axs[0].set(title='input',ylabel='Train data')\n",
    "    else:\n",
    "        axs[0].set(title='input',ylabel='Valid data')\n",
    "    axs[1].set(title='Truth')\n",
    "    axs[2].set(title='Prediction')\n",
    "    outname = 'outputs/plots/%04d.png' % (fid) \n",
    "    plt.savefig(outname, bbox_inches='tight', dpi=100, facecolor='white')\n",
    "    plt.close()  # Close the figure after saving\n"
   ]
  },
  {
   "cell_type": "code",
   "execution_count": null,
   "id": "7",
   "metadata": {},
   "outputs": [],
   "source": [
    "import matplotlib.animation as animation\n",
    "import matplotlib.pyplot as plt\n",
    "import glob\n",
    "\n",
    "frmlist = glob.glob('outputs/plots/*.png')\n",
    "# read first file to get size\n",
    "first_file = frmlist[0]\n",
    "\n",
    "fig = plt.figure()\n",
    "im = plt.imshow(plt.imread(first_file), animated=True)\n",
    "plt.title(\"RCN Model\")\n",
    "\n",
    "def update(frame):\n",
    "    im.set_data(plt.imread(frmlist[frame]))\n",
    "    return im,\n",
    "\n",
    "ani = animation.FuncAnimation(fig, update, frames=len(frmlist), interval=100, blit=True)\n",
    "ani.save('outputs/plots/plasmatv_surrogate.gif', writer='Pillow', fps=25)\n",
    "plt.close(fig)\n"
   ]
  }
 ],
 "metadata": {
  "kernelspec": {
   "display_name": "Python 3 (ipykernel)",
   "language": "python",
   "name": "python3"
  },
  "language_info": {
   "codemirror_mode": {
    "name": "ipython",
    "version": 3
   },
   "file_extension": ".py",
   "mimetype": "text/x-python",
   "name": "python",
   "nbconvert_exporter": "python",
   "pygments_lexer": "ipython3",
   "version": "3.11.5"
  }
 },
 "nbformat": 4,
 "nbformat_minor": 5
}
